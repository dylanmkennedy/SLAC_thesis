{
 "cells": [
  {
   "cell_type": "code",
   "execution_count": 1,
   "metadata": {},
   "outputs": [],
   "source": [
    "import numpy as np\n",
    "from matplotlib import pyplot as plt\n",
    "from optical_model_discreet import optical_model\n",
    "import scipy.io"
   ]
  },
  {
   "cell_type": "code",
   "execution_count": 2,
   "metadata": {},
   "outputs": [],
   "source": [
    "#construct the optical model by passing it the matched quad settings (as a\n",
    "#1d vector with 16 vals, 1 val for each LTU quad) and the beam energy in MeV\n",
    "\n",
    "#the values in this cell are taken from the 4d raster scan from MD on 6-08-2021\n",
    "\n",
    "\n",
    "gdet_max = 0.401685438592267 #the highest seen gas detector reading\n",
    "\n",
    "#the LTU quad settings that produced the highest gdet reading (above). We assume the beam was matched at these settings.\n",
    "matched_quad_settings = np.array([-42.5,  56.8 , -73.4 ,   0.  , \n",
    "                                   50.8 ,  15.65, -15.63,  15.66,\n",
    "                                  -15.67,  15.64, -15.63,  30.22,\n",
    "                                  -26.64,  18.51, -19.79,  15.  ])\n",
    "\n",
    "beamEnergyMeV = 10788.0 #beam energy in MeV\n",
    "emitx = 0.4289\n",
    "emity = 0.3735\n",
    "#construct model\n",
    "model = optical_model(matched_quad_settings, beamEnergyMeV, gdet_max)\n",
    "# model = optimized_model\n",
    "# model = optimized_model_2"
   ]
  },
  {
   "cell_type": "code",
   "execution_count": 3,
   "metadata": {},
   "outputs": [
    {
     "name": "stdout",
     "output_type": "stream",
     "text": [
      "Modeled Twiss at wire735 (assumes we were matched at peak settings): \n",
      "betax, alphax =  [45.93270064  1.07990519]\n",
      "betay, alphay =  [52.26893439 -1.2726708 ]\n",
      "\n",
      "\n",
      "Measured Twiss at wire735: \n",
      "betax, alphax =  [31.71 -0.29]\n",
      "betay, alphay =  [47.72  1.73]\n"
     ]
    }
   ],
   "source": [
    "#these are the twiss that we get if we back propagate the matched twiss parameters through the settings\n",
    "#that produced max GDET\n",
    "print('Modeled Twiss at wire735 (assumes we were matched at peak settings): ')\n",
    "print('betax, alphax = ', model.Twiss_at_wire735()[0])\n",
    "print('betay, alphay = ', model.Twiss_at_wire735()[1])\n",
    "print('\\n')\n",
    "\n",
    "#these are the results from the wire scan\n",
    "betax_at735, alphax_at735 = 31.71, -0.29\n",
    "betay_at735, alphay_at735 = 47.72, 1.73\n",
    "gammax_at735 = (1+alphax_at735**2)/betax_at735\n",
    "gammay_at735 = (1+alphay_at735**2)/betay_at735\n",
    "print('Measured Twiss at wire735: ')\n",
    "print('betax, alphax = ', np.array([betax_at735, alphax_at735]))\n",
    "print('betay, alphay = ', np.array([betay_at735, alphay_at735]))"
   ]
  },
  {
   "cell_type": "code",
   "execution_count": 4,
   "metadata": {},
   "outputs": [],
   "source": [
    "# #back prop the twiss from the wirescan and set the result as the upstream twiss and update the model params\n",
    "# qx = model.MakeFakeQ_single(model.quad_settings[0], model.drifts[0])\n",
    "# qy = model.MakeFakeQ_single(-1*model.quad_settings[0], model.drifts[0])\n",
    "# for i in range(1,6):\n",
    "#     qxnext = model.MakeFakeQ_single(model.quad_settings[i], model.drifts[i])\n",
    "#     qynext = model.MakeFakeQ_single(-1*model.quad_settings[i], model.drifts[i])\n",
    "#     qx = np.matmul(qxnext, qx)\n",
    "#     qy = np.matmul(qynext, qy)\n",
    "# qxnext = model.MakeFakeQ_single(model.quad_settings[6], 8.67)\n",
    "# qynext = model.MakeFakeQ_single(-1*model.quad_settings[6], 8.67)\n",
    "# qx = np.matmul(qxnext, qx)\n",
    "# qy = np.matmul(qynext, qy)\n",
    "# qxinv = np.linalg.inv(qx)\n",
    "# qyinv = np.linalg.inv(qy)\n",
    "# betaxi, alphaxi, gammaxi = qxinv.dot([betax_at735, alphax_at735, gammax_at735])\n",
    "# betayi, alphayi, gammayi = qyinv.dot([betay_at735, alphay_at735, gammay_at735])\n",
    "# model.txi = np.array([betaxi,alphaxi])\n",
    "# model.tyi = np.array([betayi,alphayi])\n",
    "# model.matched_beamsize = model.beamsize()\n",
    "# # print('Updated beamsize using wirescan twiss params = ', model.beamsize())"
   ]
  },
  {
   "cell_type": "code",
   "execution_count": 5,
   "metadata": {},
   "outputs": [],
   "source": [
    "#collect settings for a 1d scan of the first LTU quad (QUAD:LTU1:620) (index 0)\n",
    "quad_id = 0\n",
    "scan = np.array([np.copy(model.matched_quad_settings) for i in range(1000)])\n",
    "xs = np.linspace(.8, 1.2, 1000)*model.matched_quad_settings[quad_id]\n",
    "scan[:,quad_id] = xs\n",
    "\n",
    "beamsizes = [] #container for beamsize results\n",
    "gdets = [] #container for gas detector results\n",
    "\n",
    "#evaluate beamsize and simulated gdet (gas detector) for each setting in the scan\n",
    "for setting in scan:\n",
    "    model.update_settings(setting) #update model to new quad settings\n",
    "    gdet, beamsize =  model.gas_detector()\n",
    "    beamsizes += [beamsize] #evaluate beamsize at current settings\n",
    "    gdets += [gdet] #evaluate \"gdet\" at current settings"
   ]
  },
  {
   "cell_type": "code",
   "execution_count": 6,
   "metadata": {},
   "outputs": [
    {
     "data": {
      "text/plain": [
       "Text(0.5, 1.0, '<Beamsize> vs. QUAD:LTU1:620')"
      ]
     },
     "execution_count": 6,
     "metadata": {},
     "output_type": "execute_result"
    },
    {
     "data": {
      "image/png": "[encoded data removed]",
      "text/plain": [
       "<Figure size 432x288 with 1 Axes>"
      ]
     },
     "metadata": {
      "needs_background": "light"
     },
     "output_type": "display_data"
    }
   ],
   "source": [
    "#plot the modeled beamsizes vs the quad values (1d scan)\n",
    "plt.plot(xs, beamsizes)\n",
    "plt.xlabel('QUAD:LTU1:620 Field Integral (kG)')\n",
    "plt.ylabel('<Beamsize> (micrometers)')\n",
    "plt.title('<Beamsize> vs. QUAD:LTU1:620')"
   ]
  },
  {
   "cell_type": "code",
   "execution_count": 7,
   "metadata": {},
   "outputs": [
    {
     "data": {
      "text/plain": [
       "6.97074160946647"
      ]
     },
     "execution_count": 7,
     "metadata": {},
     "output_type": "execute_result"
    }
   ],
   "source": [
    "np.min(beamsizes)"
   ]
  },
  {
   "cell_type": "code",
   "execution_count": 8,
   "metadata": {},
   "outputs": [
    {
     "data": {
      "text/plain": [
       "Text(0.5, 1.0, 'GDET (Simulated) vs. QUAD:LTU1:620')"
      ]
     },
     "execution_count": 8,
     "metadata": {},
     "output_type": "execute_result"
    },
    {
     "data": {
      "image/png": "[encoded data removed]",
      "text/plain": [
       "<Figure size 432x288 with 1 Axes>"
      ]
     },
     "metadata": {
      "needs_background": "light"
     },
     "output_type": "display_data"
    }
   ],
   "source": [
    "#plot the \"simulated\" gas detector readings vs the quad values (1d scan)\n",
    "plt.plot(xs, gdets)\n",
    "plt.xlabel('QUAD:LTU1:620 Field Integral (kG)')\n",
    "plt.ylabel('GDET (Simulated)')\n",
    "plt.title('GDET (Simulated) vs. QUAD:LTU1:620')"
   ]
  },
  {
   "cell_type": "raw",
   "metadata": {},
   "source": [
    "#perform a 2d raster scan by varying the quads at index 0 and 1 (QUAD:LTU1:620 and QUAD:LTU1:640)\n",
    "\n",
    "quadx_id = 0 #QUAD:LTU1:620\n",
    "quady_id = 1 #QUAD:LTU1:640\n",
    "num_points = 3 #heatmap will be num_points x num_points\n",
    "xscan_range = 2.25 #quad values in scan will range from matched_quad_setting +/- scan_range\n",
    "yscan_range = 4.25\n",
    "# xs = np.linspace(-scan_range, scan_range, num_points) + model.matched_quad_settings[quadx_id]\n",
    "# ys = np.linspace(-scan_range, scan_range, num_points) + model.matched_quad_settings[quady_id]\n",
    "xs = np.linspace(-xscan_range, xscan_range, num_points) + model.matched_quad_settings[quadx_id]\n",
    "ys = np.linspace(-yscan_range, yscan_range, num_points) + model.matched_quad_settings[quady_id]\n",
    "\n",
    "beamsizes = np.zeros((num_points,num_points)) #container for beamsize results\n",
    "gdets = np.zeros((num_points,num_points)) #container for gas detector results\n",
    "\n",
    "#evaluate beamsize and simulated gdet (gas detector) for each setting in the scan\n",
    "for i, x in enumerate(xs):\n",
    "    for j, y in enumerate(ys):\n",
    "        setting = np.copy(model.matched_quad_settings)\n",
    "        setting[quadx_id] = x\n",
    "        setting[quady_id] = y\n",
    "        model.update_settings(setting)\n",
    "        gdet, beamsize =  model.gas_detector()\n",
    "        gdets[-(j+1),i] = gdet\n",
    "        beamsizes[-(j+1),i] =  beamsize\n",
    "\n"
   ]
  },
  {
   "cell_type": "raw",
   "metadata": {},
   "source": [
    "#plot a heatmap of the results of the 2d raster scan of beamsize\n",
    "\n",
    "plt.imshow(beamsizes, cmap = 'inferno', interpolation='none')\n",
    "\n",
    "\n",
    "step_x = int(num_points / 2)\n",
    "x_positions = np.arange(0,num_points,step_x) \n",
    "x_labels = np.round(xs[::step_x],1) \n",
    "plt.xticks(x_positions, x_labels)\n",
    "plt.xlabel('QUAD:LTU1:620 Field Integral (kG)')\n",
    "\n",
    "step_y = int(num_points / 2)\n",
    "y_positions = np.arange(0,num_points,step_y)[::-1]\n",
    "y_labels = np.round(ys[::step_y],1)\n",
    "plt.yticks(y_positions, y_labels)\n",
    "plt.ylabel('QUAD:LTU1:640 Field Integral (kG)')\n",
    "\n",
    "cbar = plt.colorbar()\n",
    "cbar.set_label('<Beamsize> (micrometers)')\n",
    "plt.title('<Beamsize> vs. quads')\n",
    "plt.show()"
   ]
  },
  {
   "cell_type": "raw",
   "metadata": {},
   "source": [
    "corrplot = np.array([[-44.75      ,  52.25      , -74.        ,   0.        ,\n",
    "         50.5       ,  15.65      , -15.63      ,  15.66      ,\n",
    "        -15.67      ,  15.64      , -15.63      ,  30.22      ,\n",
    "        -26.63      ,  18.51      , -19.78      ,  30.        ,\n",
    "          0.22346217],\n",
    "       [-44.75      ,  52.3       , -74.        ,   0.        ,\n",
    "         50.5       ,  15.65      , -15.63      ,  15.66      ,\n",
    "        -15.67      ,  15.64      , -15.63      ,  30.22      ,\n",
    "        -26.63      ,  18.51      , -19.78      ,  30.        ,\n",
    "          0.18734861],\n",
    "       [-44.75      ,  56.5       , -74.        ,   0.        ,\n",
    "         50.5       ,  15.65      , -15.63      ,  15.66      ,\n",
    "        -15.67      ,  15.64      , -15.63      ,  30.22      ,\n",
    "        -26.63      ,  18.51      , -19.78      ,  30.        ,\n",
    "          0.33393103],\n",
    "       [-44.75      ,  60.75      , -74.        ,   0.        ,\n",
    "         50.5       ,  15.65      , -15.63      ,  15.66      ,\n",
    "        -15.67      ,  15.64      , -15.63      ,  30.22      ,\n",
    "        -26.63      ,  18.51      , -19.78      ,  30.        ,\n",
    "          0.30548829],\n",
    "       [-42.5       ,  52.25      , -74.        ,   0.        ,\n",
    "         50.5       ,  15.65      , -15.63      ,  15.66      ,\n",
    "        -15.67      ,  15.64      , -15.63      ,  30.22      ,\n",
    "        -26.63      ,  18.51      , -19.78      ,  30.        ,\n",
    "          0.3600994 ],\n",
    "       [-42.5       ,  56.5       , -74.        ,   0.        ,\n",
    "         50.5       ,  15.65      , -15.63      ,  15.66      ,\n",
    "        -15.67      ,  15.64      , -15.63      ,  30.22      ,\n",
    "        -26.63      ,  18.51      , -19.78      ,  30.        ,\n",
    "          0.40012198],\n",
    "       [-42.5       ,  60.75      , -74.        ,   0.        ,\n",
    "         50.5       ,  15.65      , -15.63      ,  15.66      ,\n",
    "        -15.67      ,  15.64      , -15.63      ,  30.22      ,\n",
    "        -26.63      ,  18.51      , -19.78      ,  30.        ,\n",
    "          0.34981375],\n",
    "       [-40.25      ,  52.25      , -74.        ,   0.        ,\n",
    "         50.5       ,  15.65      , -15.63      ,  15.66      ,\n",
    "        -15.67      ,  15.64      , -15.63      ,  30.22      ,\n",
    "        -26.63      ,  18.51      , -19.78      ,  30.        ,\n",
    "          0.38301627],\n",
    "       [-40.25      ,  56.5       , -74.        ,   0.        ,\n",
    "         50.5       ,  15.65      , -15.63      ,  15.66      ,\n",
    "        -15.67      ,  15.64      , -15.63      ,  30.22      ,\n",
    "        -26.63      ,  18.51      , -19.78      ,  30.        ,\n",
    "          0.3751222 ],\n",
    "       [-40.25      ,  60.75      , -74.        ,   0.        ,\n",
    "         50.5       ,  15.65      , -15.63      ,  15.66      ,\n",
    "        -15.67      ,  15.64      , -15.63      ,  30.22      ,\n",
    "        -26.63      ,  18.51      , -19.78      ,  30.        ,\n",
    "          0.2620614 ]])\n",
    "plt.scatter(corrplot[:,0],corrplot[:,1],c=corrplot[:,-1], cmap='inferno')"
   ]
  },
  {
   "cell_type": "raw",
   "metadata": {},
   "source": [
    "#plot a heatmap of the results of the 2d raster scan of simulated Gas Detector\n",
    "\n",
    "plt.imshow(gdets, cmap = 'inferno', interpolation='none')\n",
    "\n",
    "\n",
    "step_x = int(num_points / 2)\n",
    "x_positions = np.arange(0,num_points,step_x) \n",
    "x_labels = np.round(xs[::step_x],1) \n",
    "plt.xticks(x_positions, x_labels)\n",
    "plt.xlabel('QUAD:LTU1:620 Field Integral (kG)')\n",
    "\n",
    "step_y = int(num_points / 2)\n",
    "y_positions = np.arange(0,num_points,step_y)[::-1]\n",
    "y_labels = np.round(ys[::step_y],1)\n",
    "plt.yticks(y_positions, y_labels)\n",
    "plt.ylabel('QUAD:LTU1:640 Field Integral (kG)')\n",
    "\n",
    "cbar = plt.colorbar()\n",
    "cbar.set_label('GDET (simulated)')\n",
    "plt.title('GDET (simulated) vs. quads')\n",
    "plt.show()"
   ]
  },
  {
   "cell_type": "raw",
   "metadata": {},
   "source": [
    "#perform a 2d raster scan of the gas detector WITH NOISE vs. quads at index 0 and 1 (QUAD:LTU1:620 and QUAD:LTU1:640)\n",
    "\n",
    "\n",
    "\n",
    "quadx_id = 0 #QUAD:LTU1:620\n",
    "quady_id = 1 #QUAD:LTU1:640\n",
    "num_points = 9 #heatmap will be num_points x num_points\n",
    "scan_range = 5 #quad values in scan will range from matched_quad_setting +/- scan_range\n",
    "\n",
    "xs = np.linspace(-scan_range, scan_range, num_points) + model.matched_quad_settings[quadx_id]\n",
    "ys = np.linspace(-scan_range, scan_range, num_points) + model.matched_quad_settings[quady_id]\n",
    "\n",
    "gdets = np.zeros((num_points,num_points)) #container for gas detector results\n",
    "\n",
    "#evaluate beamsize and simulated gdet (gas detector) for each setting in the scan\n",
    "for i, x in enumerate(xs):\n",
    "    for j, y in enumerate(ys):\n",
    "        setting = np.copy(model.matched_quad_settings)\n",
    "        setting[quadx_id] = x\n",
    "        setting[quady_id] = y\n",
    "        model.update_settings(setting)\n",
    "        \n",
    "        #calculate gas detector plus gaussian noise from signal and from background.\n",
    "        #uses default arguments: snr = signal-to-noise ratio, bg_std_dev = std dev of background noise\n",
    "        gdet =  model.gas_detector_with_noise(snr = 0.01, bg_std_dev = 0.01)\n",
    "        \n",
    "        \n",
    "        gdets[-(j+1),i] = gdet #fill 2d heatmap array\n",
    "\n"
   ]
  },
  {
   "cell_type": "raw",
   "metadata": {},
   "source": [
    "#plot a heatmap of the results of the 2d raster scan of simulated Gas Detector\n",
    "\n",
    "plt.imshow(gdets, cmap = 'inferno', interpolation='none')\n",
    "\n",
    "\n",
    "step_x = int(num_points / 2)\n",
    "x_positions = np.arange(0,num_points,step_x) \n",
    "x_labels = np.round(xs[::step_x],1) \n",
    "plt.xticks(x_positions, x_labels)\n",
    "plt.xlabel('QUAD:LTU1:620 Field Integral (kG)')\n",
    "\n",
    "step_y = int(num_points / 2)\n",
    "y_positions = np.arange(0,num_points,step_y)[::-1]\n",
    "y_labels = np.round(ys[::step_y],1)\n",
    "plt.yticks(y_positions, y_labels)\n",
    "plt.ylabel('QUAD:LTU1:640 Field Integral (kG)')\n",
    "\n",
    "cbar = plt.colorbar()\n",
    "cbar.set_label('GDET (simulated)')\n",
    "plt.title('GDET (simulated) vs. quads')\n",
    "plt.show()"
   ]
  },
  {
   "cell_type": "code",
   "execution_count": 9,
   "metadata": {},
   "outputs": [],
   "source": [
    "def process_dat(mat):\n",
    "    #select data for all ltu quads past 620 and including first und quad. each column is a data point. select all columns.\n",
    "    #then round to 2 decimals to chop small deviations and transpose so that NOW ROWS ARE DATA POINTS. shape (n,16)\n",
    "    settings = np.round_(mat['pvdata'][40:56,:],2).T\n",
    "\n",
    "    unique_settings = np.unique(settings,axis=0) #identify unique control values\n",
    "    avg_gdet = [] #prepare to collect the processed (e.g. mean or percentile) gdet value for each unique setting\n",
    "\n",
    "    #select data point (rows) that are all the same setting. average (mean/percentile/etc) the gdet values and collect them. \n",
    "    #results in 1 gdet value for each unique setting.\n",
    "    for setting in unique_settings:\n",
    "        index_cut = [x for x in range(len(settings)) if np.array_equal(settings[x],setting)]\n",
    "    #     avg = np.mean(mat['pvdata'][8][cut])\n",
    "        avg = np.percentile(mat['pvdata'][8][index_cut],80)\n",
    "        avg_gdet += [avg]\n",
    "\n",
    "    #add the averaged gdet values as a new column (at the end) of the unique_settings array. \n",
    "    #dat is now shape (n,17). each row is a data point containing the vals of 15 ltu quads, 1st und quad, and the average gdet.\n",
    "    dat = np.append(unique_settings,np.array([avg_gdet]).T,axis=1)\n",
    "    \n",
    "    return dat"
   ]
  },
  {
   "cell_type": "code",
   "execution_count": 10,
   "metadata": {},
   "outputs": [],
   "source": [
    "import os\n",
    "prefix = 'C:/Users/Dylan/TwissFit/2021-06-08-Twiss-reconstruction-MD/'\n",
    "\n",
    "scan620 = scipy.io.loadmat(prefix+'OnlineMonitor-ScalarAndScalar-2021-06-08--12-58-59-793.mat.processed.mat')\n",
    "scan640 = scipy.io.loadmat(prefix+'OnlineMonitor-ScalarAndScalar-2021-06-08--13-08-45-401.mat.processed.mat')\n",
    "# note that the scan in mat640 above seems duplicated at '2021-06-08-Twiss-reconstruction-MD/OnlineMonitor-ScalarAndScalar-2021-06-08--13-10-04-808.mat.processed.mat')\n",
    "scan660 = scipy.io.loadmat(prefix+'OnlineMonitor-ScalarAndScalar-2021-06-08--13-14-30-694.mat.processed.mat')\n",
    "scan680 = scipy.io.loadmat(prefix+'OnlineMonitor-ScalarAndScalar-2021-06-08--13-18-18-721.mat.processed.mat')\n",
    "scan4d = scipy.io.loadmat(prefix+'OnlineMonitor-ScalarAndScalar-2021-06-08--15-45-17-833.mat.processed.mat')\n",
    "\n",
    "dat620 = process_dat(scan620)\n",
    "dat640 = process_dat(scan640)\n",
    "dat660 = process_dat(scan660)\n",
    "dat680 = process_dat(scan680)\n",
    "dat4d = process_dat(scan4d)"
   ]
  },
  {
   "cell_type": "code",
   "execution_count": 11,
   "metadata": {},
   "outputs": [],
   "source": [
    "scan = dat4d\n",
    "xs_meas = scan[:,[0,1,2,4]]\n",
    "ys_meas = scan[:,-1]"
   ]
  },
  {
   "cell_type": "code",
   "execution_count": null,
   "metadata": {},
   "outputs": [],
   "source": []
  },
  {
   "cell_type": "code",
   "execution_count": 12,
   "metadata": {},
   "outputs": [],
   "source": [
    "# def model_err(matched_x4d):\n",
    "#     matched_settings = np.copy(matched_quad_settings)\n",
    "#     matched_settings[0:3] = matched_x4d[0:3]\n",
    "#     matched_settings[4] = matched_x4d[3]\n",
    "#     model = optical_model(matched_settings, beamEnergyMeV, gdet_max)\n",
    "#     model.gdet_max = matched_x4d[4]\n",
    "#     gdets = []\n",
    "#     for x in xs_meas:\n",
    "#         model.update_settings4d(x)\n",
    "#         gdet = model.gas_detector()[0]\n",
    "#         gdets += [gdet]\n",
    "#     tot_sq_err = np.sum((ys_meas-gdets)**2.)\n",
    "\n",
    "#     return tot_sq_err"
   ]
  },
  {
   "cell_type": "code",
   "execution_count": 13,
   "metadata": {},
   "outputs": [],
   "source": [
    "# from scipy.optimize import fmin\n",
    "# x_guess = np.array([-42.5,  56.8, -73.4,  50.8])\n",
    "# x_guess = np.append(x_guess, [gdet_max])\n",
    "# xopt = fmin(model_err, x_guess)"
   ]
  },
  {
   "cell_type": "code",
   "execution_count": 14,
   "metadata": {},
   "outputs": [],
   "source": [
    "# print('Initial quad settings: ', x_guess[:-1])\n",
    "# print('Initial guess of max Gas Detector: ', x_guess[-1])\n",
    "\n",
    "# print('Optimized quad settings: ', xopt[:-1])\n",
    "# print('Optimized guess of max Gas Detector: ', xopt[-1])\n"
   ]
  },
  {
   "cell_type": "code",
   "execution_count": 15,
   "metadata": {},
   "outputs": [],
   "source": [
    "# optimized_matched_settings = np.copy(matched_quad_settings)\n",
    "# optimized_matched_settings[0:3] = xopt[0:3]\n",
    "# optimized_matched_settings[4] = xopt[3]\n",
    "# optimized_gdet_max = xopt[4]\n",
    "# optimized_model = optical_model(optimized_matched_settings, beamEnergyMeV, optimized_gdet_max)\n",
    "# print('Optimized Twiss at quad ltu 620: ')\n",
    "# print('betax, alphax = ', optimized_model.txi)\n",
    "# print('betay, alphay = ', optimized_model.tyi)\n",
    "# print('Optimized Twiss at quad wire735: ')\n",
    "# print('betax, alphax = ', optimized_model.Twiss_at_wire735()[0])\n",
    "# print('betay, alphay = ', optimized_model.Twiss_at_wire735()[1])"
   ]
  },
  {
   "cell_type": "code",
   "execution_count": 16,
   "metadata": {},
   "outputs": [],
   "source": [
    "# gdets = []\n",
    "# gdets_init = []\n",
    "# for x in xs_meas:\n",
    "#     optimized_model.update_settings4d(x)\n",
    "#     gdet = optimized_model.gas_detector()[0]\n",
    "#     model.update_settings4d(x)\n",
    "#     gdet_init = model.gas_detector()[0]\n",
    "#     gdets += [gdet]\n",
    "#     gdets_init += [gdet_init]\n",
    "# tot_sq_err = np.sum((ys_meas-gdets)**2.)\n",
    "# tot_sq_err_init = np.sum((ys_meas-gdets_init)**2.)\n",
    "# fig, (ax1, ax2) = plt.subplots(1,2,sharey=True)\n",
    "# ax1.scatter(ys_meas,gdets_init, c='m')\n",
    "# ax2.scatter(ys_meas,gdets)\n",
    "# ax1.set(title='Before Optimization')\n",
    "# ax2.set(title='After Optimization')\n",
    "\n",
    "# handle = ax1.plot([0,0.5],[0,0.5], c='r')\n",
    "# ax1.legend(handle, ['perfect prediction'])\n",
    "# ax1.set(xlabel='Measured Gas Detector')\n",
    "# ax1.set(ylabel='Predicted Gas Detector')\n",
    "# ax2.set(xlabel='Measured Gas Detector')\n",
    "# handle = ax2.plot([0,0.5],[0,0.5], c='r')\n",
    "# ax2.legend(handle, ['perfect prediction'])\n",
    "# plt.tight_layout()\n",
    "\n",
    "# print('initial error: ', tot_sq_err_init)\n",
    "# print('final error: ', tot_sq_err)\n",
    "# plt.show()"
   ]
  },
  {
   "cell_type": "code",
   "execution_count": 17,
   "metadata": {},
   "outputs": [],
   "source": [
    "# plt.scatter(xs_meas[:,0], gdets_init, c='b')\n",
    "# # plt.scatter(xs_meas[:,0], gdets)\n",
    "# plt.scatter(xs_meas[:,0], ys_meas, c = 'r')\n",
    "# plt.legend(['predicted', 'measured'])\n",
    "# plt.title('Gas Detector (measured/predicted) vs. QUAD:LTU1:620')\n",
    "# plt.xlabel('QUAD:LTU1:620 Field Integral (kG)')\n",
    "# plt.ylabel('Gas Detector (measured/predicted)')\n",
    "# plt.show()"
   ]
  },
  {
   "cell_type": "code",
   "execution_count": 18,
   "metadata": {},
   "outputs": [],
   "source": [
    "# # plt.scatter(xs_meas[:,1], gdets_init, c='g')\n",
    "# plt.scatter(xs_meas[:,1], gdets)\n",
    "# plt.scatter(xs_meas[:,1], ys_meas, c = 'r')\n",
    "# plt.legend(['predicted', 'measured'])\n",
    "# plt.title('Gas Detector (measured/predicted) vs. QUAD:LTU1:640')\n",
    "# plt.xlabel('QUAD:LTU1:640 Field Integral (kG)')\n",
    "# plt.ylabel('Gas Detector (measured/predicted)')\n",
    "# plt.show()"
   ]
  },
  {
   "cell_type": "code",
   "execution_count": 19,
   "metadata": {},
   "outputs": [],
   "source": [
    "# # plt.scatter(xs_meas[:,2], gdets_init, c='g')\n",
    "# plt.scatter(xs_meas[:,2], gdets)\n",
    "# plt.scatter(xs_meas[:,2], ys_meas, c = 'r')\n",
    "# plt.legend(['predicted', 'measured'])\n",
    "# plt.title('Gas Detector (measured/predicted) vs. QUAD:LTU1:660')\n",
    "# plt.xlabel('QUAD:LTU1:660 Field Integral (kG)')\n",
    "# plt.ylabel('Gas Detector (measured/predicted)')\n",
    "# plt.show()"
   ]
  },
  {
   "cell_type": "code",
   "execution_count": 20,
   "metadata": {},
   "outputs": [],
   "source": [
    "# # plt.scatter(xs_meas[:,3], gdets_init, c='g')\n",
    "# plt.scatter(xs_meas[:,3], gdets)\n",
    "# plt.scatter(xs_meas[:,3], ys_meas, c = 'r')\n",
    "# plt.legend(['predicted', 'measured'])\n",
    "# plt.title('Gas Detector (measured/predicted) vs. QUAD:LTU1:680')\n",
    "# plt.xlabel('QUAD:LTU1:680 Field Integral (kG)')\n",
    "# plt.ylabel('Gas Detector (measured/predicted)')\n",
    "# plt.show()"
   ]
  },
  {
   "cell_type": "code",
   "execution_count": 21,
   "metadata": {},
   "outputs": [],
   "source": [
    "# fig, (ax1, ax2, ax3) = plt.subplots(1,3,sharey=True)\n",
    "# ax1.scatter(xs_meas[:,0],gdets_init, c='m')\n",
    "# ax2.scatter(xs_meas[:,0],gdets)\n",
    "# ax3.scatter(xs_meas[:,0],ys_meas, c='r')\n",
    "# ax1.set(title='Predicted GDET (Before Optimization)')\n",
    "# ax2.set(title='Predicted GDET (After Optimization)')\n",
    "# ax3.set(title='Measured GDET')\n",
    "# ax1.set(xlabel='QUAD:LTU1:620 Field Integral (kG)')\n",
    "# ax2.set(xlabel='QUAD:LTU1:620 Field Integral (kG)')\n",
    "# ax3.set(xlabel='QUAD:LTU1:620 Field Integral (kG)')\n",
    "# ax1.set(ylabel='Gas Detector')\n",
    "\n",
    "# fig.set_figwidth(15)\n",
    "# plt.tight_layout()\n",
    "# plt.show()\n",
    "\n",
    "\n",
    "\n",
    "# fig, (ax1, ax2, ax3) = plt.subplots(1,3,sharey=True)\n",
    "# ax1.scatter(xs_meas[:,1],gdets_init, c='m')\n",
    "# ax2.scatter(xs_meas[:,1],gdets)\n",
    "# ax3.scatter(xs_meas[:,1],ys_meas, c='r')\n",
    "# ax1.set(title='Predicted GDET (Before Optimization)')\n",
    "# ax2.set(title='Predicted GDET (After Optimization)')\n",
    "# ax3.set(title='Measured GDET')\n",
    "# ax1.set(xlabel='QUAD:LTU1:640 Field Integral (kG)')\n",
    "# ax2.set(xlabel='QUAD:LTU1:640 Field Integral (kG)')\n",
    "# ax3.set(xlabel='QUAD:LTU1:640 Field Integral (kG)')\n",
    "# ax1.set(ylabel='Gas Detector')\n",
    "\n",
    "# fig.set_figwidth(15)\n",
    "# plt.tight_layout()\n",
    "# plt.show()\n",
    "\n",
    "# fig, (ax1, ax2, ax3) = plt.subplots(1,3,sharey=True)\n",
    "# ax1.scatter(xs_meas[:,2],gdets_init, c='m')\n",
    "# ax2.scatter(xs_meas[:,2],gdets)\n",
    "# ax3.scatter(xs_meas[:,2],ys_meas, c='r')\n",
    "# ax1.set(title='Predicted GDET (Before Optimization)')\n",
    "# ax2.set(title='Predicted GDET (After Optimization)')\n",
    "# ax3.set(title='Measured GDET')\n",
    "# ax1.set(xlabel='QUAD:LTU1:660 Field Integral (kG)')\n",
    "# ax2.set(xlabel='QUAD:LTU1:660 Field Integral (kG)')\n",
    "# ax3.set(xlabel='QUAD:LTU1:660 Field Integral (kG)')\n",
    "# ax1.set(ylabel='Gas Detector')\n",
    "\n",
    "# fig.set_figwidth(15)\n",
    "# plt.tight_layout()\n",
    "# plt.show()\n",
    "\n",
    "# fig, (ax1, ax2, ax3) = plt.subplots(1,3,sharey=True)\n",
    "# ax1.scatter(xs_meas[:,3],gdets_init, c='m')\n",
    "# ax2.scatter(xs_meas[:,3],gdets)\n",
    "# ax3.scatter(xs_meas[:,3],ys_meas, c='r')\n",
    "# ax1.set(title='Predicted GDET (Before Optimization)')\n",
    "# ax2.set(title='Predicted GDET (After Optimization)')\n",
    "# ax3.set(title='Measured GDET')\n",
    "# ax1.set(xlabel='QUAD:LTU1:680 Field Integral (kG)')\n",
    "# ax2.set(xlabel='QUAD:LTU1:680 Field Integral (kG)')\n",
    "# ax3.set(xlabel='QUAD:LTU1:680 Field Integral (kG)')\n",
    "# ax1.set(ylabel='Gas Detector')\n",
    "\n",
    "# fig.set_figwidth(15)\n",
    "# plt.tight_layout()\n",
    "# plt.show()"
   ]
  },
  {
   "cell_type": "code",
   "execution_count": 22,
   "metadata": {},
   "outputs": [],
   "source": [
    "def model_err_twiss(twiss):\n",
    "    model = optical_model(matched_quad_settings, beamEnergyMeV, optimized_gdet_max)\n",
    "    model.txi = twiss[:2]\n",
    "    model.tyi = twiss[2:4]\n",
    "    gdets = []\n",
    "    for x in xs_meas:\n",
    "        model.update_settings4d(x)\n",
    "        gdet = model.gas_detector()[0]\n",
    "        gdets += [gdet]\n",
    "    tot_sq_err = np.sum((ys_meas-gdets)**2.)\n",
    "\n",
    "    return tot_sq_err"
   ]
  },
  {
   "cell_type": "code",
   "execution_count": 23,
   "metadata": {},
   "outputs": [
    {
     "ename": "NameError",
     "evalue": "name 'optimized_gdet_max' is not defined",
     "output_type": "error",
     "traceback": [
      "\u001b[1;31m---------------------------------------------------------------------------\u001b[0m",
      "\u001b[1;31mNameError\u001b[0m                                 Traceback (most recent call last)",
      "\u001b[1;32m<ipython-input-23-d2af60857641>\u001b[0m in \u001b[0;36m<module>\u001b[1;34m\u001b[0m\n\u001b[0;32m      1\u001b[0m \u001b[1;32mfrom\u001b[0m \u001b[0mscipy\u001b[0m\u001b[1;33m.\u001b[0m\u001b[0moptimize\u001b[0m \u001b[1;32mimport\u001b[0m \u001b[0mfmin\u001b[0m\u001b[1;33m\u001b[0m\u001b[1;33m\u001b[0m\u001b[0m\n\u001b[0;32m      2\u001b[0m \u001b[0mtwiss_guess\u001b[0m \u001b[1;33m=\u001b[0m \u001b[0mnp\u001b[0m\u001b[1;33m.\u001b[0m\u001b[0mappend\u001b[0m\u001b[1;33m(\u001b[0m\u001b[0mmodel\u001b[0m\u001b[1;33m.\u001b[0m\u001b[0mtxi\u001b[0m\u001b[1;33m,\u001b[0m\u001b[0mmodel\u001b[0m\u001b[1;33m.\u001b[0m\u001b[0mtyi\u001b[0m\u001b[1;33m)\u001b[0m\u001b[1;33m\u001b[0m\u001b[1;33m\u001b[0m\u001b[0m\n\u001b[1;32m----> 3\u001b[1;33m \u001b[0mtwiss_opt\u001b[0m \u001b[1;33m=\u001b[0m \u001b[0mfmin\u001b[0m\u001b[1;33m(\u001b[0m\u001b[0mmodel_err_twiss\u001b[0m\u001b[1;33m,\u001b[0m \u001b[0mtwiss_guess\u001b[0m\u001b[1;33m)\u001b[0m\u001b[1;33m\u001b[0m\u001b[1;33m\u001b[0m\u001b[0m\n\u001b[0m",
      "\u001b[1;32m~\\Anaconda3\\lib\\site-packages\\scipy\\optimize\\optimize.py\u001b[0m in \u001b[0;36mfmin\u001b[1;34m(func, x0, args, xtol, ftol, maxiter, maxfun, full_output, disp, retall, callback, initial_simplex)\u001b[0m\n\u001b[0;32m    575\u001b[0m             'initial_simplex': initial_simplex}\n\u001b[0;32m    576\u001b[0m \u001b[1;33m\u001b[0m\u001b[0m\n\u001b[1;32m--> 577\u001b[1;33m     \u001b[0mres\u001b[0m \u001b[1;33m=\u001b[0m \u001b[0m_minimize_neldermead\u001b[0m\u001b[1;33m(\u001b[0m\u001b[0mfunc\u001b[0m\u001b[1;33m,\u001b[0m \u001b[0mx0\u001b[0m\u001b[1;33m,\u001b[0m \u001b[0margs\u001b[0m\u001b[1;33m,\u001b[0m \u001b[0mcallback\u001b[0m\u001b[1;33m=\u001b[0m\u001b[0mcallback\u001b[0m\u001b[1;33m,\u001b[0m \u001b[1;33m**\u001b[0m\u001b[0mopts\u001b[0m\u001b[1;33m)\u001b[0m\u001b[1;33m\u001b[0m\u001b[1;33m\u001b[0m\u001b[0m\n\u001b[0m\u001b[0;32m    578\u001b[0m     \u001b[1;32mif\u001b[0m \u001b[0mfull_output\u001b[0m\u001b[1;33m:\u001b[0m\u001b[1;33m\u001b[0m\u001b[1;33m\u001b[0m\u001b[0m\n\u001b[0;32m    579\u001b[0m         \u001b[0mretlist\u001b[0m \u001b[1;33m=\u001b[0m \u001b[0mres\u001b[0m\u001b[1;33m[\u001b[0m\u001b[1;34m'x'\u001b[0m\u001b[1;33m]\u001b[0m\u001b[1;33m,\u001b[0m \u001b[0mres\u001b[0m\u001b[1;33m[\u001b[0m\u001b[1;34m'fun'\u001b[0m\u001b[1;33m]\u001b[0m\u001b[1;33m,\u001b[0m \u001b[0mres\u001b[0m\u001b[1;33m[\u001b[0m\u001b[1;34m'nit'\u001b[0m\u001b[1;33m]\u001b[0m\u001b[1;33m,\u001b[0m \u001b[0mres\u001b[0m\u001b[1;33m[\u001b[0m\u001b[1;34m'nfev'\u001b[0m\u001b[1;33m]\u001b[0m\u001b[1;33m,\u001b[0m \u001b[0mres\u001b[0m\u001b[1;33m[\u001b[0m\u001b[1;34m'status'\u001b[0m\u001b[1;33m]\u001b[0m\u001b[1;33m\u001b[0m\u001b[1;33m\u001b[0m\u001b[0m\n",
      "\u001b[1;32m~\\Anaconda3\\lib\\site-packages\\scipy\\optimize\\optimize.py\u001b[0m in \u001b[0;36m_minimize_neldermead\u001b[1;34m(func, x0, args, callback, maxiter, maxfev, disp, return_all, initial_simplex, xatol, fatol, adaptive, **unknown_options)\u001b[0m\n\u001b[0;32m    721\u001b[0m \u001b[1;33m\u001b[0m\u001b[0m\n\u001b[0;32m    722\u001b[0m     \u001b[1;32mfor\u001b[0m \u001b[0mk\u001b[0m \u001b[1;32min\u001b[0m \u001b[0mrange\u001b[0m\u001b[1;33m(\u001b[0m\u001b[0mN\u001b[0m \u001b[1;33m+\u001b[0m \u001b[1;36m1\u001b[0m\u001b[1;33m)\u001b[0m\u001b[1;33m:\u001b[0m\u001b[1;33m\u001b[0m\u001b[1;33m\u001b[0m\u001b[0m\n\u001b[1;32m--> 723\u001b[1;33m         \u001b[0mfsim\u001b[0m\u001b[1;33m[\u001b[0m\u001b[0mk\u001b[0m\u001b[1;33m]\u001b[0m \u001b[1;33m=\u001b[0m \u001b[0mfunc\u001b[0m\u001b[1;33m(\u001b[0m\u001b[0msim\u001b[0m\u001b[1;33m[\u001b[0m\u001b[0mk\u001b[0m\u001b[1;33m]\u001b[0m\u001b[1;33m)\u001b[0m\u001b[1;33m\u001b[0m\u001b[1;33m\u001b[0m\u001b[0m\n\u001b[0m\u001b[0;32m    724\u001b[0m \u001b[1;33m\u001b[0m\u001b[0m\n\u001b[0;32m    725\u001b[0m     \u001b[0mind\u001b[0m \u001b[1;33m=\u001b[0m \u001b[0mnp\u001b[0m\u001b[1;33m.\u001b[0m\u001b[0margsort\u001b[0m\u001b[1;33m(\u001b[0m\u001b[0mfsim\u001b[0m\u001b[1;33m)\u001b[0m\u001b[1;33m\u001b[0m\u001b[1;33m\u001b[0m\u001b[0m\n",
      "\u001b[1;32m~\\Anaconda3\\lib\\site-packages\\scipy\\optimize\\optimize.py\u001b[0m in \u001b[0;36mfunction_wrapper\u001b[1;34m(*wrapper_args)\u001b[0m\n\u001b[0;32m    459\u001b[0m     \u001b[1;32mdef\u001b[0m \u001b[0mfunction_wrapper\u001b[0m\u001b[1;33m(\u001b[0m\u001b[1;33m*\u001b[0m\u001b[0mwrapper_args\u001b[0m\u001b[1;33m)\u001b[0m\u001b[1;33m:\u001b[0m\u001b[1;33m\u001b[0m\u001b[1;33m\u001b[0m\u001b[0m\n\u001b[0;32m    460\u001b[0m         \u001b[0mncalls\u001b[0m\u001b[1;33m[\u001b[0m\u001b[1;36m0\u001b[0m\u001b[1;33m]\u001b[0m \u001b[1;33m+=\u001b[0m \u001b[1;36m1\u001b[0m\u001b[1;33m\u001b[0m\u001b[1;33m\u001b[0m\u001b[0m\n\u001b[1;32m--> 461\u001b[1;33m         \u001b[1;32mreturn\u001b[0m \u001b[0mfunction\u001b[0m\u001b[1;33m(\u001b[0m\u001b[1;33m*\u001b[0m\u001b[1;33m(\u001b[0m\u001b[0mwrapper_args\u001b[0m \u001b[1;33m+\u001b[0m \u001b[0margs\u001b[0m\u001b[1;33m)\u001b[0m\u001b[1;33m)\u001b[0m\u001b[1;33m\u001b[0m\u001b[1;33m\u001b[0m\u001b[0m\n\u001b[0m\u001b[0;32m    462\u001b[0m \u001b[1;33m\u001b[0m\u001b[0m\n\u001b[0;32m    463\u001b[0m     \u001b[1;32mreturn\u001b[0m \u001b[0mncalls\u001b[0m\u001b[1;33m,\u001b[0m \u001b[0mfunction_wrapper\u001b[0m\u001b[1;33m\u001b[0m\u001b[1;33m\u001b[0m\u001b[0m\n",
      "\u001b[1;32m<ipython-input-22-ea0b5c76ead9>\u001b[0m in \u001b[0;36mmodel_err_twiss\u001b[1;34m(twiss)\u001b[0m\n\u001b[0;32m      1\u001b[0m \u001b[1;32mdef\u001b[0m \u001b[0mmodel_err_twiss\u001b[0m\u001b[1;33m(\u001b[0m\u001b[0mtwiss\u001b[0m\u001b[1;33m)\u001b[0m\u001b[1;33m:\u001b[0m\u001b[1;33m\u001b[0m\u001b[1;33m\u001b[0m\u001b[0m\n\u001b[1;32m----> 2\u001b[1;33m     \u001b[0mmodel\u001b[0m \u001b[1;33m=\u001b[0m \u001b[0moptical_model\u001b[0m\u001b[1;33m(\u001b[0m\u001b[0mmatched_quad_settings\u001b[0m\u001b[1;33m,\u001b[0m \u001b[0mbeamEnergyMeV\u001b[0m\u001b[1;33m,\u001b[0m \u001b[0moptimized_gdet_max\u001b[0m\u001b[1;33m)\u001b[0m\u001b[1;33m\u001b[0m\u001b[1;33m\u001b[0m\u001b[0m\n\u001b[0m\u001b[0;32m      3\u001b[0m     \u001b[0mmodel\u001b[0m\u001b[1;33m.\u001b[0m\u001b[0mtxi\u001b[0m \u001b[1;33m=\u001b[0m \u001b[0mtwiss\u001b[0m\u001b[1;33m[\u001b[0m\u001b[1;33m:\u001b[0m\u001b[1;36m2\u001b[0m\u001b[1;33m]\u001b[0m\u001b[1;33m\u001b[0m\u001b[1;33m\u001b[0m\u001b[0m\n\u001b[0;32m      4\u001b[0m     \u001b[0mmodel\u001b[0m\u001b[1;33m.\u001b[0m\u001b[0mtyi\u001b[0m \u001b[1;33m=\u001b[0m \u001b[0mtwiss\u001b[0m\u001b[1;33m[\u001b[0m\u001b[1;36m2\u001b[0m\u001b[1;33m:\u001b[0m\u001b[1;36m4\u001b[0m\u001b[1;33m]\u001b[0m\u001b[1;33m\u001b[0m\u001b[1;33m\u001b[0m\u001b[0m\n\u001b[0;32m      5\u001b[0m     \u001b[0mgdets\u001b[0m \u001b[1;33m=\u001b[0m \u001b[1;33m[\u001b[0m\u001b[1;33m]\u001b[0m\u001b[1;33m\u001b[0m\u001b[1;33m\u001b[0m\u001b[0m\n",
      "\u001b[1;31mNameError\u001b[0m: name 'optimized_gdet_max' is not defined"
     ]
    }
   ],
   "source": [
    "from scipy.optimize import fmin\n",
    "twiss_guess = np.append(model.txi,model.tyi)\n",
    "twiss_opt = fmin(model_err_twiss, twiss_guess)"
   ]
  },
  {
   "cell_type": "code",
   "execution_count": null,
   "metadata": {},
   "outputs": [],
   "source": [
    "print('Initial Twiss: ', twiss_guess)\n",
    "print('Optimized Twiss: ', twiss_opt)"
   ]
  },
  {
   "cell_type": "code",
   "execution_count": null,
   "metadata": {},
   "outputs": [],
   "source": [
    "optimized_model_2 = optical_model(matched_quad_settings, beamEnergyMeV, optimized_gdet_max)\n",
    "optimized_model_2.txi = twiss_opt[:2]\n",
    "optimized_model_2.tyi = twiss_opt[2:4]\n",
    "print('Optimized Twiss at quad wire735: ')\n",
    "print('betax, alphax = ', optimized_model_2.Twiss_at_wire735()[0])\n",
    "print('betay, alphay = ', optimized_model_2.Twiss_at_wire735()[1])\n"
   ]
  },
  {
   "cell_type": "code",
   "execution_count": null,
   "metadata": {
    "scrolled": false
   },
   "outputs": [],
   "source": [
    "gdets = []\n",
    "gdets_init = []\n",
    "for x in xs_meas:\n",
    "    optimized_model_2.update_settings4d(x)\n",
    "    gdet = optimized_model_2.gas_detector()[0]\n",
    "    model.update_settings4d(x)\n",
    "    gdet_init = model.gas_detector()[0]\n",
    "    gdets += [gdet]\n",
    "    gdets_init += [gdet_init]\n",
    "tot_sq_err = np.sum((ys_meas-gdets)**2.)\n",
    "tot_sq_err_init = np.sum((ys_meas-gdets_init)**2.)\n",
    "fig, (ax1, ax2) = plt.subplots(1,2,sharey=True)\n",
    "ax1.scatter(ys_meas,gdets_init, c='m')\n",
    "ax2.scatter(ys_meas,gdets)\n",
    "ax1.set(title='Before Optimization')\n",
    "ax2.set(title='After Optimization')\n",
    "\n",
    "handle = ax1.plot([0,0.5],[0,0.5], c='r')\n",
    "ax1.legend(handle, ['perfect prediction'])\n",
    "ax1.set(xlabel='Measured Gas Detector')\n",
    "ax1.set(ylabel='Predicted Gas Detector')\n",
    "ax2.set(xlabel='Measured Gas Detector')\n",
    "handle = ax2.plot([0,0.5],[0,0.5], c='r')\n",
    "ax2.legend(handle, ['perfect prediction'])\n",
    "plt.tight_layout()\n",
    "\n",
    "print('initial error: ', tot_sq_err_init)\n",
    "print('final error: ', tot_sq_err)\n",
    "plt.show()"
   ]
  },
  {
   "cell_type": "code",
   "execution_count": null,
   "metadata": {},
   "outputs": [],
   "source": []
  },
  {
   "cell_type": "code",
   "execution_count": null,
   "metadata": {},
   "outputs": [],
   "source": []
  },
  {
   "cell_type": "code",
   "execution_count": null,
   "metadata": {},
   "outputs": [],
   "source": []
  }
 ],
 "metadata": {
  "kernelspec": {
   "display_name": "Python 3",
   "language": "python",
   "name": "python3"
  },
  "language_info": {
   "codemirror_mode": {
    "name": "ipython",
    "version": 3
   },
   "file_extension": ".py",
   "mimetype": "text/x-python",
   "name": "python",
   "nbconvert_exporter": "python",
   "pygments_lexer": "ipython3",
   "version": "3.7.4"
  }
 },
 "nbformat": 4,
 "nbformat_minor": 2
}
