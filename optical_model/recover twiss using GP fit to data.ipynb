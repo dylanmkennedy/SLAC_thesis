{
 "cells": [
  {
   "cell_type": "code",
   "execution_count": 1,
   "metadata": {},
   "outputs": [],
   "source": [
    "import numpy as np\n",
    "from matplotlib import pyplot as plt\n",
    "from optical_model_discrete import optical_model\n",
    "import scipy.io"
   ]
  },
  {
   "cell_type": "code",
   "execution_count": 2,
   "metadata": {},
   "outputs": [],
   "source": [
    "#construct the optical model by passing it the matched quad settings (as a\n",
    "#1d vector with 16 vals, 1 val for each LTU quad) and the beam energy in MeV\n",
    "\n",
    "#the values in this cell are taken from the 4d raster scan from MD on 6-08-2021\n",
    "\n",
    "\n",
    "gdet_max = 0.401685438592267 #the highest seen gas detector reading\n",
    "\n",
    "#the LTU quad settings that produced the highest gdet reading (above). We assume the beam was matched at these settings.\n",
    "matched_quad_settings = np.array([-42.5,  56.8 , -73.4 ,   0.  , \n",
    "                                   50.8 ,  15.65, -15.63,  15.66,\n",
    "                                  -15.67,  15.64, -15.63,  30.22,\n",
    "                                  -26.64,  18.51, -19.79,  15.  ])\n",
    "\n",
    "beamEnergyMeV = 10788.0 #beam energy in MeV\n",
    "emitx = 0.4289\n",
    "emity = 0.3735\n",
    "#construct model\n",
    "model = optical_model(matched_quad_settings, beamEnergyMeV, gdet_max)\n",
    "naive_txi = np.copy(model.txi)\n",
    "naive_tyi = np.copy(model.tyi)"
   ]
  },
  {
   "cell_type": "code",
   "execution_count": 3,
   "metadata": {},
   "outputs": [
    {
     "name": "stdout",
     "output_type": "stream",
     "text": [
      "Modeled Twiss at wire735 (assumes we were matched at peak settings): \n",
      "betax, alphax =  [45.93270064  1.07990519]\n",
      "betay, alphay =  [52.26893439 -1.2726708 ]\n",
      "\n",
      "\n",
      "Measured Twiss at wire735: \n",
      "betax, alphax =  [31.71 -0.29]\n",
      "betay, alphay =  [47.72  1.73]\n"
     ]
    }
   ],
   "source": [
    "#these are the twiss that we get if we back propagate the matched twiss parameters through the settings\n",
    "#that produced max GDET\n",
    "print('Modeled Twiss at wire735 (assumes we were matched at peak settings): ')\n",
    "print('betax, alphax = ', model.Twiss_at_wire735()[0])\n",
    "print('betay, alphay = ', model.Twiss_at_wire735()[1])\n",
    "print('\\n')\n",
    "\n",
    "#these are the results from the wire scan\n",
    "betax_at735, alphax_at735 = 31.71, -0.29\n",
    "betay_at735, alphay_at735 = 47.72, 1.73\n",
    "gammax_at735 = (1+alphax_at735**2)/betax_at735\n",
    "gammay_at735 = (1+alphay_at735**2)/betay_at735\n",
    "print('Measured Twiss at wire735: ')\n",
    "print('betax, alphax = ', np.array([betax_at735, alphax_at735]))\n",
    "print('betay, alphay = ', np.array([betay_at735, alphay_at735]))"
   ]
  },
  {
   "cell_type": "code",
   "execution_count": 4,
   "metadata": {},
   "outputs": [
    {
     "data": {
      "image/png": "[encoded data removed]",
      "text/plain": [
       "<Figure size 432x288 with 2 Axes>"
      ]
     },
     "metadata": {
      "needs_background": "light"
     },
     "output_type": "display_data"
    }
   ],
   "source": [
    "#perform a 2d raster scan by varying the quads at index 0 and 1 (QUAD:LTU1:620 and QUAD:LTU1:640)\n",
    "\n",
    "quadx_id = 0 #QUAD:LTU1:620\n",
    "quady_id =1 #QUAD:LTU1:640\n",
    "num_points = 9 #heatmap will be num_points x num_points\n",
    "scan_range = 5 #quad values in scan will range from matched_quad_setting +/- scan_range\n",
    "\n",
    "xs = np.linspace(-scan_range, scan_range, num_points) + model.matched_quad_settings[quadx_id]\n",
    "ys = np.linspace(-scan_range, scan_range, num_points) + model.matched_quad_settings[quady_id]\n",
    "\n",
    "beamsizes = np.zeros((num_points,num_points)) #container for beamsize results\n",
    "gdets = np.zeros((num_points,num_points)) #container for gas detector results\n",
    "beta_xs = []\n",
    "beta_ys = []\n",
    "twiss_at_und = []\n",
    "#evaluate twiss at und and predicted gdet (gas detector) for each setting in the scan\n",
    "for i, x in enumerate(xs):\n",
    "    for j, y in enumerate(ys):\n",
    "        setting = np.copy(model.matched_quad_settings)\n",
    "        setting[quadx_id] = x\n",
    "        setting[quady_id] = y\n",
    "        model.update_settings(setting)\n",
    "        beamsizes[-(j+1),i], beta_x, beta_y = model.beamsize()\n",
    "        beta_xs += [beta_x]\n",
    "        beta_ys += [beta_y]\n",
    "# plt.imshow(beamsizes, extent = [xs[0], xs[-1], ys[0], ys[-1] ])\n",
    "plt.imshow(beamsizes, extent = [-22, -18, 16, 20 ])\n",
    "plt.title('Predicted Avg Beam Size')\n",
    "cbar = plt.colorbar()\n",
    "cbar.set_label('Predicted Beam size')\n",
    "plt.xlabel('Q620')\n",
    "plt.ylabel('Q640')\n",
    "\n",
    "model.reset_to_match()"
   ]
  },
  {
   "cell_type": "code",
   "execution_count": 7,
   "metadata": {},
   "outputs": [],
   "source": [
    "def arrowed_spines(fig, ax):\n",
    "\n",
    "    xmin, xmax = ax.get_xlim() \n",
    "    ymin, ymax = ax.get_ylim()\n",
    "\n",
    "    # removing the default axis on all sides:\n",
    "    for side in ['bottom','right','top','left']:\n",
    "        ax.spines[side].set_visible(False)\n",
    "\n",
    "    # removing the axis ticks\n",
    "    plt.xticks([]) # labels \n",
    "    plt.yticks([])\n",
    "    ax.xaxis.set_ticks_position('none') # tick markers\n",
    "    ax.yaxis.set_ticks_position('none')\n",
    "\n",
    "    # get width and height of axes object to compute \n",
    "    # matching arrowhead length and width\n",
    "    dps = fig.dpi_scale_trans.inverted()\n",
    "    bbox = ax.get_window_extent().transformed(dps)\n",
    "    width, height = bbox.width, bbox.height\n",
    "\n",
    "    # manual arrowhead width and length\n",
    "    hw = 1./20.*(ymax-ymin) \n",
    "    hl = 1./20.*(xmax-xmin)\n",
    "    lw = 1. # axis line width\n",
    "    ohg = 0.3 # arrow overhang\n",
    "\n",
    "    # compute matching arrowhead length and width\n",
    "    yhw = hw/(ymax-ymin)*(xmax-xmin)* height/width \n",
    "    yhl = hl/(xmax-xmin)*(ymax-ymin)* width/height\n",
    "\n",
    "    # draw x and y axis\n",
    "    ax.arrow(xmin, 0, xmax-xmin, 0., fc='k', ec='k', lw = lw, \n",
    "             head_width=hw, head_length=hl, overhang = ohg, \n",
    "             length_includes_head= True, clip_on = False) \n",
    "\n",
    "    ax.arrow(0, ymin, 0., ymax-ymin, fc='k', ec='k', lw = lw, \n",
    "             head_width=yhw, head_length=yhl, overhang = ohg, \n",
    "             length_includes_head= True, clip_on = False)\n",
    "    \n"
   ]
  },
  {
   "cell_type": "code",
   "execution_count": 8,
   "metadata": {},
   "outputs": [
    {
     "data": {
      "text/plain": [
       "Text(0.5, 1.0, 'Transverse Beam Size Through Undulator')"
      ]
     },
     "execution_count": 8,
     "metadata": {},
     "output_type": "execute_result"
    },
    {
     "data": {
      "image/png": "[encoded data removed]",
      "text/plain": [
       "<Figure size 432x288 with 1 Axes>"
      ]
     },
     "metadata": {},
     "output_type": "display_data"
    }
   ],
   "source": [
    "fig, ax = plt.subplots()\n",
    "\n",
    "i = int(len(beta_xs)/2)\n",
    "h1, = plt.plot(np.sqrt(np.array(beta_xs[i])+np.array(beta_ys[i])), c='b')\n",
    "# h2, = plt.plot([0,len(beta_xs[i])-1], [np.mean(np.sqrt(np.array(beta_xs[i])+np.array(beta_ys[i]))),np.mean(np.sqrt(np.array(beta_xs[i])+np.array(beta_ys[i])))], '--', c='b')\n",
    "\n",
    "i=9\n",
    "h3, = plt.plot(np.sqrt(np.array(beta_xs[i])+np.array(beta_ys[i])), c='r')\n",
    "h4, = plt.plot([0,len(beta_xs[i])-1], [np.mean(np.sqrt(np.array(beta_xs[i])+np.array(beta_ys[i]))),np.mean(np.sqrt(np.array(beta_xs[i])+np.array(beta_ys[i])))], '--', c='r')\n",
    "\n",
    "ax.set_xlabel(r'$z$', loc = 'center', fontsize=15)\n",
    "ax.set_ylabel(r'$s$', loc = 'center', rotation = 'horizontal', fontsize=15)\n",
    "plt.ylim(0,15)\n",
    "\n",
    "h1.set_label('Matched')\n",
    "h3.set_label('Mismatched')\n",
    "h4.set_label('Mismatched (avg)')\n",
    "ax.legend()\n",
    "arrowed_spines(fig,ax)\n",
    "plt.title('Transverse Beam Size Through Undulator', fontsize=12)\n"
   ]
  },
  {
   "cell_type": "code",
   "execution_count": 11,
   "metadata": {},
   "outputs": [
    {
     "data": {
      "text/plain": [
       "Text(0.5, 1.0, '$\\\\beta$ (Twiss) Parameters Through Undulator')"
      ]
     },
     "execution_count": 11,
     "metadata": {},
     "output_type": "execute_result"
    },
    {
     "data": {
      "image/png": "[encoded data removed]",
      "text/plain": [
       "<Figure size 432x288 with 1 Axes>"
      ]
     },
     "metadata": {},
     "output_type": "display_data"
    }
   ],
   "source": [
    "fig, ax = plt.subplots()\n",
    "\n",
    "i = int(len(beta_xs)/2)\n",
    "h1, = plt.plot(beta_xs[i], c='b')\n",
    "h2, = plt.plot(beta_ys[i], '--', c='b')\n",
    "\n",
    "i=9\n",
    "h3, = ax.plot(beta_xs[i], c='r')\n",
    "h4, = ax.plot(beta_ys[i], '--', c='r')\n",
    "\n",
    "ax.set_xlabel(r'$z$', loc = 'center', fontsize=15)\n",
    "ax.set_ylabel(r'$\\beta$', loc = 'center', rotation = 'horizontal', fontsize=15)\n",
    "h1.set_label('Matched '+r'$\\beta_x$')\n",
    "h2.set_label('Matched '+r'$\\beta_y$')\n",
    "h3.set_label('Mismatched '+r'$\\beta_x$')\n",
    "h4.set_label('Mismatched '+r'$\\beta_y$')\n",
    "\n",
    "\n",
    "plt.ylim(0,140)\n",
    "ax.legend()\n",
    "arrowed_spines(fig,ax)\n",
    "plt.title(r'$\\beta$ (Twiss) Parameters Through Undulator', fontsize=12)\n"
   ]
  },
  {
   "cell_type": "code",
   "execution_count": 12,
   "metadata": {},
   "outputs": [],
   "source": [
    "#back prop the twiss from the wirescan and set the result as the upstream twiss and update the model params\n",
    "qx = model.MakeFakeQ_single(model.quad_settings[0], model.drifts[0])\n",
    "qy = model.MakeFakeQ_single(-1*model.quad_settings[0], model.drifts[0])\n",
    "for i in range(1,6):\n",
    "    qxnext = model.MakeFakeQ_single(model.quad_settings[i], model.drifts[i])\n",
    "    qynext = model.MakeFakeQ_single(-1*model.quad_settings[i], model.drifts[i])\n",
    "    qx = np.matmul(qxnext, qx)\n",
    "    qy = np.matmul(qynext, qy)\n",
    "qxnext = model.MakeFakeQ_single(model.quad_settings[6], 8.67)\n",
    "qynext = model.MakeFakeQ_single(-1*model.quad_settings[6], 8.67)\n",
    "qx = np.matmul(qxnext, qx)\n",
    "qy = np.matmul(qynext, qy)\n",
    "qxinv = np.linalg.inv(qx)\n",
    "qyinv = np.linalg.inv(qy)\n",
    "betaxi, alphaxi, gammaxi = qxinv.dot([betax_at735, alphax_at735, gammax_at735])\n",
    "betayi, alphayi, gammayi = qyinv.dot([betay_at735, alphay_at735, gammay_at735])\n",
    "model.txi = np.array([betaxi,alphaxi])\n",
    "model.tyi = np.array([betayi,alphayi])\n",
    "model.matched_beamsize = model.beamsize()"
   ]
  },
  {
   "cell_type": "code",
   "execution_count": 13,
   "metadata": {},
   "outputs": [
    {
     "name": "stdout",
     "output_type": "stream",
     "text": [
      "Ground truth Twiss_x =  [69.53810148  4.17268982]\n",
      "Ground truth Twiss_y =  [89.37143176  8.50699802]\n"
     ]
    }
   ],
   "source": [
    "#ground truth twiss at the beginning of the quad lattice (NOT at the beginning of the undulator)\n",
    "gt_txi = np.copy(model.txi)\n",
    "gt_tyi = np.copy(model.tyi)\n",
    "print('Ground truth Twiss_x = ', gt_txi)\n",
    "print('Ground truth Twiss_y = ', gt_tyi)"
   ]
  },
  {
   "cell_type": "code",
   "execution_count": 14,
   "metadata": {},
   "outputs": [],
   "source": [
    "def process_dat(path):\n",
    "    prefix = 'C:/Users/Dylan/TwissFit/2021-06-08-Twiss-reconstruction-MD/'\n",
    "    pctl = 80 #percentile to use for \"average\" gdet value in scans that don't provide average\n",
    "    if path[:13] == 'OnlineMonitor':\n",
    "        mat = scipy.io.loadmat(prefix+path)\n",
    "        #select data for all ltu quads past 620 and including first und quad. each column is a data point. select all columns.\n",
    "        #then round to 2 decimals to chop small deviations and transpose so that NOW ROWS ARE DATA POINTS. shape (n,16)\n",
    "        settings = np.round_(mat['pvdata'][40:56,:],2).T\n",
    "\n",
    "        unique_settings = np.unique(settings,axis=0) #identify unique control values\n",
    "        avg_gdet = [] #prepare to collect the processed (e.g. mean or percentile) gdet value for each unique setting\n",
    "        gdets = []\n",
    "        #select data point (rows) that are all the same setting. average (mean/percentile/etc) the gdet values and collect them. \n",
    "        #results in 1 gdet value for each unique setting.\n",
    "        for setting in unique_settings:\n",
    "            index_cut = [x for x in range(len(settings)) if np.array_equal(settings[x],setting)]\n",
    "        #     avg = np.mean(mat['pvdata'][8][cut])\n",
    "            gdets += [mat['pvdata'][8][index_cut]]\n",
    "            avg = np.percentile(mat['pvdata'][8][index_cut],pctl)\n",
    "            avg_gdet += [avg]\n",
    "\n",
    "        #add the averaged gdet values as a new column (at the end) of the unique_settings array. \n",
    "        #dat is now shape (n,17). each row is a data point containing the vals of 15 ltu quads, 1st und quad, and the average gdet.\n",
    "        xs_meas = unique_settings[:,[0,1,2,4]]\n",
    "        ys_meas = np.array(avg_gdet)\n",
    "        return xs_meas, ys_meas, gdets\n",
    "    elif path[:9] == 'multiknob':\n",
    "        mat = scipy.io.loadmat(prefix+path)\n",
    "        xs_meas = mat['BACTdata']\n",
    "        ys_meas = mat['GDETavg'][:,0]\n",
    "        return xs_meas, ys_meas\n",
    "    else: print('Error: Unrecognized file path.')\n",
    "        \n"
   ]
  },
  {
   "cell_type": "code",
   "execution_count": 15,
   "metadata": {},
   "outputs": [],
   "source": [
    "import os\n",
    " \n",
    "scan620 = 'OnlineMonitor-ScalarAndScalar-2021-06-08--12-58-59-793.mat.processed.mat'\n",
    "scan640 = 'OnlineMonitor-ScalarAndScalar-2021-06-08--13-08-45-401.mat.processed.mat'\n",
    "# note that the scan in mat640 above seems duplicated at '2021-06-08-Twiss-reconstruction-MD/OnlineMonitor-ScalarAndScalar-2021-06-08--13-10-04-808.mat.processed.mat')\n",
    "scan660 = 'OnlineMonitor-ScalarAndScalar-2021-06-08--13-14-30-694.mat.processed.mat'\n",
    "scan680 = 'OnlineMonitor-ScalarAndScalar-2021-06-08--13-18-18-721.mat.processed.mat'\n",
    "scan4d = 'OnlineMonitor-ScalarAndScalar-2021-06-08--15-45-17-833.mat.processed.mat'\n",
    "single_device_scan_paths = [scan620, scan640, scan660, scan680]\n"
   ]
  },
  {
   "cell_type": "code",
   "execution_count": 16,
   "metadata": {
    "scrolled": true
   },
   "outputs": [
    {
     "data": {
      "image/png": "[encoded data removed]",
      "text/plain": [
       "<Figure size 432x288 with 1 Axes>"
      ]
     },
     "metadata": {
      "needs_background": "light"
     },
     "output_type": "display_data"
    }
   ],
   "source": [
    "xs, ys, gdets = process_dat(scan620)\n",
    "for i in range(len(xs)):\n",
    "#     print(i)\n",
    "#     plt.scatter(np.array([xs[i,0] for n in range(len(gdets[i]))]), gdets[i], alpha=0.05)\n",
    "    plt.errorbar(xs[i,0], np.mean(gdets[i]), yerr = np.sqrt(np.var(gdets[i])), ls='-',c='b', marker='.', markersize=10)\n",
    "plt.xlabel('Quadrupole 1 (kG)', fontsize=14)\n",
    "plt.ylabel('Measured FEL Pulse Energy (mJ)', fontsize=14)\n",
    "plt.tight_layout()"
   ]
  },
  {
   "cell_type": "code",
   "execution_count": 17,
   "metadata": {},
   "outputs": [
    {
     "data": {
      "text/plain": [
       "(array([ 2.,  1.,  3.,  4.,  2.,  4.,  5., 11., 10., 13., 14., 23., 22.,\n",
       "        27., 17., 14.,  6.,  5.,  3.]),\n",
       " array([0.26367342, 0.27311811, 0.28256279, 0.29200748, 0.30145217,\n",
       "        0.31089686, 0.32034154, 0.32978623, 0.33923092, 0.34867561,\n",
       "        0.35812029, 0.36756498, 0.37700967, 0.38645436, 0.39589904,\n",
       "        0.40534373, 0.41478842, 0.4242331 , 0.43367779, 0.44312248]),\n",
       " <BarContainer object of 19 artists>)"
      ]
     },
     "execution_count": 17,
     "metadata": {},
     "output_type": "execute_result"
    },
    {
     "data": {
      "image/png": "[encoded data removed]",
      "text/plain": [
       "<Figure size 432x288 with 1 Axes>"
      ]
     },
     "metadata": {
      "needs_background": "light"
     },
     "output_type": "display_data"
    }
   ],
   "source": [
    "plt.hist(gdets[5], bins=19)"
   ]
  },
  {
   "cell_type": "code",
   "execution_count": 18,
   "metadata": {},
   "outputs": [],
   "source": [
    "multiknob_scan_paths = ['multiknob/MKB_data_2021-06-08-133344.mat',\n",
    "'multiknob/MKB_data_2021-06-08-134257.mat',\n",
    "'multiknob/MKB_data_2021-06-08-134537.mat',\n",
    "'multiknob/MKB_data_2021-06-08-134801.mat',\n",
    "'multiknob/MKB_data_2021-06-08-135209.mat',\n",
    "'multiknob/MKB_data_2021-06-08-135823.mat',\n",
    "'multiknob/MKB_data_2021-06-08-140017.mat',\n",
    "'multiknob/MKB_data_2021-06-08-140214.mat',\n",
    "'multiknob/MKB_data_2021-06-08-140403.mat',\n",
    "'multiknob/MKB_data_2021-06-08-140708.mat',\n",
    "'multiknob/MKB_data_2021-06-08-140908.mat',\n",
    "'multiknob/MKB_data_2021-06-08-141123.mat',\n",
    "'multiknob/MKB_data_2021-06-08-141311.mat',\n",
    "'multiknob/MKB_data_2021-06-08-141522.mat',\n",
    "'multiknob/MKB_data_2021-06-08-141714.mat',\n",
    "'multiknob/MKB_data_2021-06-08-141933.mat',\n",
    "'multiknob/MKB_data_2021-06-08-142113.mat',\n",
    "'multiknob/MKB_data_2021-06-08-151715.mat',\n",
    "'multiknob/MKB_data_2021-06-08-151901.mat',\n",
    "'multiknob/MKB_data_2021-06-08-152050.mat',\n",
    "'multiknob/MKB_data_2021-06-08-152227.mat']"
   ]
  },
  {
   "cell_type": "markdown",
   "metadata": {},
   "source": [
    "del bad_xs"
   ]
  },
  {
   "cell_type": "code",
   "execution_count": 19,
   "metadata": {},
   "outputs": [],
   "source": [
    "#these points seem to create fitting problems\n",
    "\n",
    "bad_xs = np.array([[-42.3,  65. , -73.4,  50.8],\n",
    "       [-42.3,  56.8, -79. ,  50.8],\n",
    "       [-42.3,  56.8, -73.4,  43.7],\n",
    "       [-42.3,  56.8, -73.4,  59. ]])"
   ]
  },
  {
   "cell_type": "code",
   "execution_count": 20,
   "metadata": {},
   "outputs": [
    {
     "name": "stdout",
     "output_type": "stream",
     "text": [
      "dimensions of scan at multiknob/MKB_data_2021-06-08-140708.mat  did not match others\n",
      "scan_xs has dimensions: (10, 8)\n",
      "scan_ys has dimensions: (10,)\n",
      "dimensions of scan at multiknob/MKB_data_2021-06-08-140908.mat  did not match others\n",
      "scan_xs has dimensions: (10, 8)\n",
      "scan_ys has dimensions: (10,)\n",
      "dimensions of scan at multiknob/MKB_data_2021-06-08-141123.mat  did not match others\n",
      "scan_xs has dimensions: (10, 8)\n",
      "scan_ys has dimensions: (10,)\n",
      "dimensions of scan at multiknob/MKB_data_2021-06-08-141311.mat  did not match others\n",
      "scan_xs has dimensions: (10, 8)\n",
      "scan_ys has dimensions: (10,)\n",
      "dimensions of scan at multiknob/MKB_data_2021-06-08-141522.mat  did not match others\n",
      "scan_xs has dimensions: (10, 8)\n",
      "scan_ys has dimensions: (10,)\n",
      "dimensions of scan at multiknob/MKB_data_2021-06-08-141714.mat  did not match others\n",
      "scan_xs has dimensions: (10, 8)\n",
      "scan_ys has dimensions: (10,)\n",
      "dimensions of scan at multiknob/MKB_data_2021-06-08-141933.mat  did not match others\n",
      "scan_xs has dimensions: (10, 8)\n",
      "scan_ys has dimensions: (10,)\n",
      "dimensions of scan at multiknob/MKB_data_2021-06-08-142113.mat  did not match others\n",
      "scan_xs has dimensions: (10, 8)\n",
      "scan_ys has dimensions: (10,)\n"
     ]
    }
   ],
   "source": [
    "#load all x data in into a single array (shape n x 4) and all y data into a single array (shape n x 1)\n",
    "\n",
    "#clear data to start from scratch\n",
    "try:\n",
    "    del xs_meas\n",
    "    del ys_meas\n",
    "except:\n",
    "    pass\n",
    "\n",
    "# #include the 1-d single device scans\n",
    "# for path in [single_device_scan_paths[2]]:\n",
    "#     scan_xs, scan_ys = process_dat(path)\n",
    "#     try:\n",
    "#         xs_meas = np.append(xs_meas, scan_xs, axis=0)\n",
    "#         ys_meas = np.append(ys_meas, scan_ys)\n",
    "#     except: \n",
    "#         xs_meas = scan_xs\n",
    "#         ys_meas = scan_ys\n",
    "\n",
    "# #include the 4-d raster scan\n",
    "# scan_xs, scan_ys = process_dat(scan4d)\n",
    "# try:\n",
    "#     xs_meas = np.append(xs_meas, scan_xs, axis=0)\n",
    "#     ys_meas = np.append(ys_meas, scan_ys)\n",
    "# except: \n",
    "#     xs_meas = scan_xs\n",
    "#     ys_meas = scan_ys\n",
    "        \n",
    "#include the multiknob scan data (1-d scans along 4-vectors)\n",
    "for path in multiknob_scan_paths:\n",
    "    scan_xs, scan_ys = process_dat(path)\n",
    "    try:\n",
    "        temp = xs_meas #check to see if xs_meas (and implicitly ys_meas) exists. If so, try to append new values.\n",
    "        try: #some scans have 8 quads or something and don't concatenate. I didn't look into it. I just skipped them.\n",
    "            xs_meas = np.append(xs_meas, scan_xs, axis=0)\n",
    "            ys_meas = np.append(ys_meas, scan_ys)\n",
    "        except:\n",
    "            print('dimensions of scan at', path, ' did not match others')\n",
    "            print('scan_xs has dimensions:', scan_xs.shape)\n",
    "            print('scan_ys has dimensions:', scan_ys.shape)\n",
    "    except:\n",
    "        xs_meas = scan_xs\n",
    "        ys_meas = scan_ys\n"
   ]
  },
  {
   "cell_type": "code",
   "execution_count": 21,
   "metadata": {},
   "outputs": [],
   "source": [
    "#construct a truth table to keep only the points that are not bad\n",
    "cut = np.zeros(len(xs_meas))\n",
    "for bad_x in bad_xs:\n",
    "    cut += np.all(xs_meas==bad_x, axis=1)\n",
    "keep = (cut == 0)"
   ]
  },
  {
   "cell_type": "code",
   "execution_count": 22,
   "metadata": {},
   "outputs": [
    {
     "name": "stdout",
     "output_type": "stream",
     "text": [
      "Removed 0 points.\n"
     ]
    }
   ],
   "source": [
    "#remove bad points\n",
    "print('Removed', len(ys_meas) - sum(keep), 'points.')\n",
    "xs_meas = xs_meas[keep]\n",
    "ys_meas = ys_meas[keep]\n"
   ]
  },
  {
   "cell_type": "code",
   "execution_count": 65,
   "metadata": {},
   "outputs": [
    {
     "name": "stdout",
     "output_type": "stream",
     "text": [
      "\n",
      "\n",
      "total # of data points: 130\n",
      "# of training points: 110\n",
      "# of test points: 20\n"
     ]
    }
   ],
   "source": [
    "#split data into train/test batches\n",
    "from sklearn.model_selection import train_test_split\n",
    "\n",
    "test_size = 0.15\n",
    "\n",
    "#random states (splits) that do well: 1,2,4,5,7,14 / 6,8 15\n",
    "#radnom states that have trouble with optimization: 11,12,13,\n",
    "#random states that have anomylous points(?): 3,9,10\n",
    "xs_meas_train, xs_meas_test, ys_meas_train, ys_meas_test = train_test_split(xs_meas, ys_meas, test_size=test_size, random_state=1)\n",
    "\n",
    "print('\\n')\n",
    "print('total # of data points:', len(xs_meas))\n",
    "print('# of training points:', len(xs_meas_train))\n",
    "print('# of test points:', len(xs_meas_test))"
   ]
  },
  {
   "cell_type": "code",
   "execution_count": 66,
   "metadata": {},
   "outputs": [
    {
     "data": {
      "image/png": "[encoded data removed]",
      "text/plain": [
       "<Figure size 432x288 with 3 Axes>"
      ]
     },
     "metadata": {
      "needs_background": "light"
     },
     "output_type": "display_data"
    }
   ],
   "source": [
    "#the xs are currently the 4d arrays of quad settings\n",
    "#need to propagate the ground truth twiss to the undulator to obtain the final twiss parameters for each configuration\n",
    "#lets plot the entire data set in terms of their final twiss params projected into 2-d twiss space\n",
    "\n",
    "twissx_at_und = []\n",
    "twissy_at_und = []\n",
    "\n",
    "for x in xs_meas:\n",
    "    model.update_settings4d(x)\n",
    "    tx = model.TransportTwiss(model.qx, model.txi)\n",
    "    ty = model.TransportTwiss(model.qy, model.tyi)\n",
    "    twissx_at_und += [tx]\n",
    "    twissy_at_und += [ty]\n",
    "twissx_at_und = np.array(twissx_at_und)\n",
    "twissy_at_und = np.array(twissy_at_und)\n",
    "twiss_at_und = np.append(twissx_at_und, twissy_at_und, axis=1)\n",
    "\n",
    "\n",
    "plt.rcParams.update({'font.size': 12})\n",
    "fig, (ax1, ax2) = plt.subplots(1, 2)\n",
    "\n",
    "h1=ax1.scatter(twiss_at_und[:,1], twiss_at_und[:,0], c=ys_meas, vmin=0, vmax=0.5)\n",
    "# ax1.colorbar().set_label('GDET')\n",
    "ax1.set_xlabel(r'$\\alpha_{x_f}$',fontsize = 20)\n",
    "ax1.set_ylabel(r'$\\beta_{x_f}$',fontsize = 20)\n",
    "ax1.set_title('GDET vs Final X-Twiss')\n",
    "\n",
    "h2=ax2.scatter(twiss_at_und[:,3], twiss_at_und[:,2], c=ys_meas, vmin=0, vmax=0.5)\n",
    "# ax1.colorbar().set_label('GDET')\n",
    "ax2.set_xlabel(r'$\\alpha_{x_f}$',fontsize = 20)\n",
    "ax2.set_ylabel(r'$\\beta_{x_f}$',fontsize = 20)\n",
    "ax2.set_title('GDET vs Final Y-Twiss')\n",
    "\n",
    "fig.colorbar(h1) #use one colorbar for both since they have the same ranges\n",
    "plt.tight_layout()\n"
   ]
  },
  {
   "cell_type": "code",
   "execution_count": 67,
   "metadata": {},
   "outputs": [],
   "source": [
    "#prepare the set of twiss params corresponding to only the training data\n",
    "\n",
    "twissx_at_und = []\n",
    "twissy_at_und = []\n",
    "for x in xs_meas_train:\n",
    "    model.update_settings4d(x)\n",
    "    twissx_at_und += [model.TransportTwiss(model.qx, model.txi)]\n",
    "    twissy_at_und += [model.TransportTwiss(model.qy, model.tyi)]\n",
    "twissx_at_und = np.array(twissx_at_und)\n",
    "twissy_at_und = np.array(twissy_at_und)\n",
    "twiss_at_und = np.append(twissx_at_und, twissy_at_und, axis=1)\n",
    "X_train = twiss_at_und #these are our raw x training values"
   ]
  },
  {
   "cell_type": "code",
   "execution_count": 68,
   "metadata": {},
   "outputs": [],
   "source": [
    "#rescale the input data before fitting the gp\n",
    "from sklearn import preprocessing\n",
    "scaler = preprocessing.StandardScaler().fit(X_train)\n",
    "X_scaled = scaler.transform(X_train)"
   ]
  },
  {
   "cell_type": "code",
   "execution_count": 69,
   "metadata": {},
   "outputs": [],
   "source": [
    "#needed to define a wrapper function for l_bfgs_b algorithm (gets used to fit the GP) to be able to adjust the maxiter.\n",
    "import functools\n",
    "from scipy.optimize import fmin_l_bfgs_b\n",
    "\n",
    "l_bfgs_b = functools.partial(fmin_l_bfgs_b, maxiter=100000)\n",
    "\n",
    "def optimizer(obj_func, initial_theta, bounds):\n",
    "    res = l_bfgs_b(obj_func, initial_theta, bounds=bounds)\n",
    "    return res[0], res[1]"
   ]
  },
  {
   "cell_type": "code",
   "execution_count": 70,
   "metadata": {},
   "outputs": [
    {
     "data": {
      "text/plain": [
       "GaussianProcessRegressor(kernel=RBF(length_scale=1) + WhiteKernel(noise_level=0.017),\n",
       "                         n_restarts_optimizer=100,\n",
       "                         optimizer=<function optimizer at 0x000001BDD207F678>)"
      ]
     },
     "execution_count": 70,
     "metadata": {},
     "output_type": "execute_result"
    }
   ],
   "source": [
    "#fit the gp to the training data. allow optimization of hyperparams.\n",
    "from sklearn.gaussian_process import GaussianProcessRegressor as gpr\n",
    "from sklearn.gaussian_process.kernels import RBF, WhiteKernel\n",
    "\n",
    "noise = np.var(ys_meas_train)\n",
    "kernel = RBF(1, (0.1, 20)) + WhiteKernel(noise_level=noise)\n",
    "gp = gpr(kernel=kernel, optimizer = optimizer, n_restarts_optimizer=100)\n",
    "gp.fit(X_scaled, ys_meas_train)"
   ]
  },
  {
   "cell_type": "code",
   "execution_count": 71,
   "metadata": {},
   "outputs": [
    {
     "name": "stdout",
     "output_type": "stream",
     "text": [
      "avg_err = 0.00021142358046153474\n"
     ]
    }
   ],
   "source": [
    "#evaluate gp prediction error on train/test batch\n",
    "\n",
    "# xs = xs_meas_train\n",
    "# ys = ys_meas_train\n",
    "xs = xs_meas_test\n",
    "ys = ys_meas_test\n",
    "\n",
    "twissx_at_und = []\n",
    "twissy_at_und = []\n",
    "for x in xs:\n",
    "    model.update_settings4d(x)\n",
    "    twissx_at_und += [model.TransportTwiss(model.qx, model.txi)]\n",
    "    twissy_at_und += [model.TransportTwiss(model.qy, model.tyi)]\n",
    "twissx_at_und = np.array(twissx_at_und)\n",
    "twissy_at_und = np.array(twissy_at_und)\n",
    "twiss_at_und = np.append(twissx_at_und, twissy_at_und, axis=1)\n",
    "\n",
    "X_test = scaler.transform(twiss_at_und)\n",
    "avg_err = np.sum((gp.predict(X_test)-ys)**2)/len(ys)\n",
    "print('avg_err =', avg_err)"
   ]
  },
  {
   "cell_type": "code",
   "execution_count": 72,
   "metadata": {},
   "outputs": [
    {
     "data": {
      "text/plain": [
       "[<matplotlib.lines.Line2D at 0x1bdd22f6788>]"
      ]
     },
     "execution_count": 72,
     "metadata": {},
     "output_type": "execute_result"
    },
    {
     "data": {
      "image/png": "[encoded data removed]",
      "text/plain": [
       "<Figure size 432x288 with 1 Axes>"
      ]
     },
     "metadata": {
      "needs_background": "light"
     },
     "output_type": "display_data"
    }
   ],
   "source": [
    "plt.plot((gp.predict(X_test)-ys)**2)"
   ]
  },
  {
   "cell_type": "markdown",
   "metadata": {},
   "source": [
    "i = np.argmax((gp.predict(X_test)-ys)**2)\n",
    "print('Bad prediction at x-value:', X_test[i])\n",
    "print('Measured y-value:', ys[i])\n",
    "print('Predicted y-value:', gp.predict([X_test[i]])[0])\n",
    "\n",
    "try:\n",
    "    bad_xs = np.append(bad_xs, [xs_meas_test[i]], axis=0)\n",
    "except:\n",
    "    bad_xs = np.array([xs_meas_test[i]])\n",
    "\n",
    "print('bad_xs:', bad_xs)"
   ]
  },
  {
   "cell_type": "code",
   "execution_count": 73,
   "metadata": {},
   "outputs": [],
   "source": [
    "#a function that takes in the upstream twiss params as a 4d vector in the form twiss = [betax, alphax, betay, alphay]\n",
    "#and returns the sum of the squared errors in the test batch. \n",
    "#We will use this function to find a set of twiss parameters that minimizes the total squared error.\n",
    "def model_err_twiss(twiss):\n",
    "    model = optical_model(matched_quad_settings, beamEnergyMeV)\n",
    "    model.txi = twiss[:2]\n",
    "    model.tyi = twiss[2:4]\n",
    "    twiss_at_und = []\n",
    "    for x in xs_meas_test:\n",
    "        model.update_settings4d(x)\n",
    "        twissx_at_und = model.TransportTwiss(model.qx, model.txi)\n",
    "        twissy_at_und = model.TransportTwiss(model.qy, model.tyi)\n",
    "        twissx_at_und = np.array(twissx_at_und)\n",
    "        twissy_at_und = np.array(twissy_at_und)\n",
    "        twiss_at_und += [np.append(twissx_at_und, twissy_at_und)]\n",
    "    X_scaled = scaler.transform(twiss_at_und)\n",
    "    ys_pred = gp.predict(X_scaled)\n",
    "    tot_sq_err = np.sum((ys_meas_test-ys_pred)**2.)\n",
    "\n",
    "    return tot_sq_err"
   ]
  },
  {
   "cell_type": "code",
   "execution_count": 74,
   "metadata": {},
   "outputs": [
    {
     "name": "stdout",
     "output_type": "stream",
     "text": [
      "Optimization terminated successfully.\n",
      "         Current function value: 0.003980\n",
      "         Iterations: 217\n",
      "         Function evaluations: 382\n"
     ]
    }
   ],
   "source": [
    "#optimize our guess of the upstream twiss params using simplex algorithm starting from naive guess of upstream twiss\n",
    "from scipy.optimize import fmin\n",
    "\n",
    "twiss_guess = np.append(naive_txi, naive_tyi) \n",
    "# twiss_guess = 1.1*np.append(gt_txi, gt_tyi) \n",
    "\n",
    "twiss_opt = fmin(model_err_twiss, twiss_guess)\n"
   ]
  },
  {
   "cell_type": "code",
   "execution_count": null,
   "metadata": {},
   "outputs": [],
   "source": []
  },
  {
   "cell_type": "code",
   "execution_count": 75,
   "metadata": {},
   "outputs": [
    {
     "name": "stdout",
     "output_type": "stream",
     "text": [
      "Initial Twiss:  [116.69744013   5.45986807  28.84582619   1.16439978]\n",
      "Optimized Twiss:  [68.67557124  4.15556057 93.74968627  8.95052941]\n",
      "Ground truth Twiss =  [69.53810148  4.17268982 89.37143176  8.50699802]\n"
     ]
    }
   ],
   "source": [
    "gt_twiss = np.append(gt_txi,gt_tyi)\n",
    "print('Initial Twiss: ', twiss_guess)\n",
    "print('Optimized Twiss: ', twiss_opt)\n",
    "print('Ground truth Twiss = ', gt_twiss)"
   ]
  },
  {
   "cell_type": "code",
   "execution_count": 76,
   "metadata": {},
   "outputs": [
    {
     "name": "stdout",
     "output_type": "stream",
     "text": [
      "Optimized model likelihood: 0.003980324301139281\n",
      "Model likelihood using Ground Truth Twiss params: 0.004228471609230695\n",
      "\u001b[1;32;48mOptimization appears successful. Consider skipping next 2 cells (brute-force method).\u001b[1;37;0m\n"
     ]
    }
   ],
   "source": [
    "opt_err = model_err_twiss(twiss_opt)\n",
    "gt_err = model_err_twiss(gt_twiss)\n",
    "print('Optimized model likelihood:',opt_err)\n",
    "print('Model likelihood using Ground Truth Twiss params:', gt_err)\n",
    "if (gt_err < opt_err):\n",
    "    print('\\033[1;31;48m' + 'Optimization unsuccessful. Try brute-force method, below.' + '\\033[1;37;0m')\n",
    "print('\\033[1;32;48m' + 'Optimization appears successful. Consider skipping next 2 cells (brute-force method).' + '\\033[1;37;0m')"
   ]
  },
  {
   "cell_type": "code",
   "execution_count": null,
   "metadata": {},
   "outputs": [],
   "source": []
  },
  {
   "cell_type": "code",
   "execution_count": null,
   "metadata": {},
   "outputs": [],
   "source": []
  },
  {
   "cell_type": "code",
   "execution_count": 77,
   "metadata": {},
   "outputs": [
    {
     "name": "stdout",
     "output_type": "stream",
     "text": [
      "Optimization terminated successfully.\n",
      "         Current function value: 0.010788\n",
      "         Iterations: 258\n",
      "         Function evaluations: 438\n"
     ]
    }
   ],
   "source": [
    "#optimize our guess of the upstream twiss params using brute force 10000 point 4d mesh to find best starting point for simplex\n",
    "from scipy.optimize import fmin\n",
    "\n",
    "twiss_guesses = [np.append(naive_txi, naive_tyi)]\n",
    "for bx in np.linspace(0.1,10,10): #should probably just hardcode physically motivated bounds for these params\n",
    "    for ax in np.linspace(-10,10,10):\n",
    "        for by in np.linspace(0.1,10,10):\n",
    "            for ay in np.linspace(-10,10,10):\n",
    "                twiss_guesses += [np.array([bx*naive_txi[0], ax*naive_txi[1], by*naive_tyi[0], ay*naive_tyi[1]])]\n",
    "\n",
    "errors = []\n",
    "for twiss_guess in twiss_guesses:\n",
    "    errors += [model_err_twiss(twiss_guess)]\n",
    "\n",
    "index = np.argmin(errors)\n",
    "twiss_opt = fmin(model_err_twiss, twiss_guesses[index])"
   ]
  },
  {
   "cell_type": "code",
   "execution_count": 78,
   "metadata": {},
   "outputs": [
    {
     "name": "stdout",
     "output_type": "stream",
     "text": [
      "Initial Twiss:  [1166.97440127   54.59868069  288.45826187   11.64399784]\n",
      "Optimized Twiss:  [130.1510586   10.60044166 184.19894709   5.05843341]\n",
      "Ground truth Twiss =  [69.53810148  4.17268982 89.37143176  8.50699802]\n"
     ]
    }
   ],
   "source": [
    "print('Initial Twiss: ', twiss_guess)\n",
    "print('Optimized Twiss: ', twiss_opt)\n",
    "print('Ground truth Twiss = ', np.append(gt_txi,gt_tyi))"
   ]
  },
  {
   "cell_type": "code",
   "execution_count": null,
   "metadata": {},
   "outputs": [],
   "source": []
  },
  {
   "cell_type": "code",
   "execution_count": null,
   "metadata": {},
   "outputs": [],
   "source": []
  },
  {
   "cell_type": "code",
   "execution_count": 79,
   "metadata": {},
   "outputs": [],
   "source": [
    "plt.rcParams.update({'font.size': 12})\n",
    "\n",
    "\n",
    "n=11\n",
    "rb=60\n",
    "ra=6\n",
    "abuff = ra/((n-1.)/2.)/2\n",
    "bbuff = rb/((n-1.)/2.)/2\n",
    "\n",
    "twiss_guesses = []\n",
    "err = np.zeros((n,n))\n",
    "for i, bx in enumerate(np.linspace(-rb,rb,n)): \n",
    "    for j, ax in enumerate(np.linspace(-ra,ra,n)):\n",
    "        twiss_guess = np.array([bx+twiss_opt[0], ax+twiss_opt[1], twiss_opt[2], twiss_opt[3]])\n",
    "        twiss_guesses += [twiss_guess]\n",
    "        err[-(i+1),j] = model_err_twiss(twiss_guess)\n",
    "        \n"
   ]
  },
  {
   "cell_type": "code",
   "execution_count": 80,
   "metadata": {},
   "outputs": [
    {
     "data": {
      "text/plain": [
       "<matplotlib.legend.Legend at 0x1bdcd667188>"
      ]
     },
     "execution_count": 80,
     "metadata": {},
     "output_type": "execute_result"
    },
    {
     "data": {
      "image/png": "[encoded data removed]",
      "text/plain": [
       "<Figure size 432x288 with 1 Axes>"
      ]
     },
     "metadata": {
      "needs_background": "light"
     },
     "output_type": "display_data"
    }
   ],
   "source": [
    "plt.imshow(np.exp(-err), aspect='auto', extent=[-(ra+abuff)+twiss_opt[1], (ra+abuff)+twiss_opt[1], -(bx+bbuff)+twiss_opt[0], (bx+bbuff)+twiss_opt[0]])\n",
    "plt.xlabel(r'$\\alpha_{x_0}$',fontsize = 20)\n",
    "plt.ylabel(r'$\\beta_{x_0}$',fontsize = 20)\n",
    "plt.title('~Model Likelihood')\n",
    "star_true =plt.scatter([gt_twiss[1]],[gt_twiss[0]],c='b',marker='*', s=150)\n",
    "star_pred =plt.scatter([twiss_opt[1]],[twiss_opt[0]],c='r',marker='*', s=150)\n",
    "star_true.set_label('Ground Truth')\n",
    "star_pred.set_label('MLE')\n",
    "plt.legend()"
   ]
  },
  {
   "cell_type": "code",
   "execution_count": 63,
   "metadata": {},
   "outputs": [],
   "source": [
    "plt.rcParams.update({'font.size': 12})\n",
    "\n",
    "n=11\n",
    "rb=30\n",
    "ra=8\n",
    "twiss_guesses = []\n",
    "err = np.zeros((n,n))\n",
    "\n",
    "for i, by in enumerate(np.linspace(-rb,rb,n)): \n",
    "    for j, ay in enumerate(np.linspace(-ra,ra,n)):\n",
    "        twiss_guess = np.array([twiss_opt[0], twiss_opt[1], by+twiss_opt[2], ay+twiss_opt[3]])\n",
    "        twiss_guesses += [twiss_guess]\n",
    "        err[-(i+1),j] = model_err_twiss(twiss_guess)\n",
    "        \n"
   ]
  },
  {
   "cell_type": "code",
   "execution_count": 64,
   "metadata": {},
   "outputs": [
    {
     "data": {
      "image/png": "[encoded data removed]",
      "text/plain": [
       "<Figure size 432x288 with 1 Axes>"
      ]
     },
     "metadata": {
      "needs_background": "light"
     },
     "output_type": "display_data"
    }
   ],
   "source": [
    "plt.imshow(np.exp(-err), aspect='auto', extent=[-ra+twiss_opt[3], ra+twiss_opt[3], -bx+twiss_opt[2], bx+twiss_opt[2]])\n",
    "plt.xlabel(r'$\\alpha_{y_0}$',fontsize = 20)\n",
    "plt.ylabel(r'$\\beta_{y_0}$',fontsize = 20)\n",
    "star_true = plt.scatter([gt_twiss[3]],[gt_twiss[2]],c='b',marker='*', s=150)\n",
    "star_pred = plt.scatter([twiss_opt[3]],[twiss_opt[2]],c='r',marker='*', s=150 )\n",
    "plt.title('~Model Likelihood')\n",
    "star_true.set_label('Ground Truth')\n",
    "star_pred.set_label('MLE')\n",
    "plt.legend()\n",
    "plt.show()"
   ]
  },
  {
   "cell_type": "code",
   "execution_count": 48,
   "metadata": {},
   "outputs": [
    {
     "data": {
      "text/plain": [
       "Text(0, 0.5, 'Q640')"
      ]
     },
     "execution_count": 48,
     "metadata": {},
     "output_type": "execute_result"
    },
    {
     "data": {
      "image/png": "[encoded data removed]",
      "text/plain": [
       "<Figure size 432x288 with 2 Axes>"
      ]
     },
     "metadata": {
      "needs_background": "light"
     },
     "output_type": "display_data"
    }
   ],
   "source": [
    "#perform a 2d raster scan of the GP model in quad-space by varying the quads at index 0 and 1 (QUAD:LTU1:620 and QUAD:LTU1:640)\n",
    "\n",
    "quadx_id = 0 #QUAD:LTU1:620\n",
    "quady_id = 1 #QUAD:LTU1:640\n",
    "num_points = 99 #heatmap will be num_points x num_points\n",
    "scan_range = 20 #quad values in scan will range from matched_quad_setting +/- scan_range\n",
    "\n",
    "xs = np.linspace(-scan_range, scan_range, num_points) + model.matched_quad_settings[quadx_id]\n",
    "ys = np.linspace(-scan_range, scan_range, num_points) + model.matched_quad_settings[quady_id]\n",
    "\n",
    "beamsizes = np.zeros((num_points,num_points)) #container for beamsize results\n",
    "gdets = np.zeros((num_points,num_points)) #container for gas detector results\n",
    "\n",
    "twiss_at_und = []\n",
    "#evaluate twiss at und and predicted gdet (gas detector) for each setting in the scan\n",
    "for i, x in enumerate(xs):\n",
    "    for j, y in enumerate(ys):\n",
    "        setting = np.copy(model.matched_quad_settings)\n",
    "        setting[quadx_id] = x\n",
    "        setting[quady_id] = y\n",
    "        model.update_settings(setting)\n",
    "        twissx_at_und = model.TransportTwiss(model.qx, model.txi)\n",
    "        twissy_at_und = model.TransportTwiss(model.qy, model.tyi)\n",
    "        twissx_at_und = np.array(twissx_at_und)\n",
    "        twissy_at_und = np.array(twissy_at_und)\n",
    "        twiss_at_und += [np.append(twissx_at_und, twissy_at_und)]\n",
    "        beamsizes[-(j+1),i] = model.beamsize()[0]\n",
    "        \n",
    "X_scaled = scaler.transform(twiss_at_und)\n",
    "ys_pred = gp.predict(X_scaled)\n",
    "ys_pred = np.rot90(np.reshape(ys_pred, (num_points,-1)))\n",
    "\n",
    "plt.imshow(ys_pred, extent = [xs[0], xs[-1], ys[0], ys[-1] ])\n",
    "plt.title('Data-based GDET Prediction (GP)')\n",
    "cbar = plt.colorbar()\n",
    "cbar.set_label('Predicted GDET')\n",
    "plt.xlabel('Q620')\n",
    "plt.ylabel('Q640')\n",
    "\n"
   ]
  },
  {
   "cell_type": "code",
   "execution_count": null,
   "metadata": {},
   "outputs": [],
   "source": []
  },
  {
   "cell_type": "code",
   "execution_count": null,
   "metadata": {},
   "outputs": [],
   "source": []
  },
  {
   "cell_type": "code",
   "execution_count": null,
   "metadata": {},
   "outputs": [],
   "source": []
  }
 ],
 "metadata": {
  "kernelspec": {
   "display_name": "Python 3",
   "language": "python",
   "name": "python3"
  },
  "language_info": {
   "codemirror_mode": {
    "name": "ipython",
    "version": 3
   },
   "file_extension": ".py",
   "mimetype": "text/x-python",
   "name": "python",
   "nbconvert_exporter": "python",
   "pygments_lexer": "ipython3",
   "version": "3.7.4"
  }
 },
 "nbformat": 4,
 "nbformat_minor": 2
}
